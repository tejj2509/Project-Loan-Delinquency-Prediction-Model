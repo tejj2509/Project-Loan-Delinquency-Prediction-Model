{
 "cells": [
  {
   "cell_type": "markdown",
   "id": "b7bd6119",
   "metadata": {},
   "source": [
    "# Loan Delinquency Prediction model\n",
    "\n",
    "### Loan delinquency refers to a situation where a borrower fails to make scheduled payments towards their loan obligations. This typically occurs when a borrower misses one or more payments and extends beyond the agreed-upon due date. A loan becomes delinquent when the borrower is unable to make the payment within a specified grace period."
   ]
  },
  {
   "cell_type": "markdown",
   "id": "a03d0a06",
   "metadata": {},
   "source": [
    "# About Dataset\n",
    "\n",
    "XYZ Corporation is currently experiencing a period of adversity. Their Non-Performing Assets (NPAs) have seen a notable increase in recent times, with a significant portion stemming from loans extended to individual borrowers. To address this pressing issue, the bank's Chief Risk Officer has taken the initiative to establish a data-driven framework for the approval of loans to individual borrowers, with the aim of mitigating the risk of these loans transitioning into NPAs.\n",
    "\n",
    "Link: https://www.kaggle.com/datasets/wajidsaleem/loan-delinquent\n",
    "\n",
    "\n",
    "## Features\n",
    "\n",
    "### ID:\n",
    "\n",
    "Customer ID\n",
    "\n",
    "\n",
    "### Delinquent : \n",
    "\n",
    "Indicates whether the customer is delinquent or not (1 => Yes, 0 => No)\n",
    "\n",
    "\n",
    "### Term:\n",
    "\n",
    "Loan term in months\n",
    "\n",
    "\n",
    "### Gender:\n",
    "\n",
    "The borrower's Gender (Male or Female).\n",
    "\n",
    "\n",
    "### Purpose:\n",
    "\n",
    "Borrower's purpose of taking the loan.\n",
    "\n",
    "\n",
    "### Home_Ownership:\n",
    "\n",
    "Home ownership status of the borrower\n",
    "\n",
    "\n",
    "### Age:\n",
    "\n",
    "Age of the borrower.\n",
    "\n",
    "\n",
    "### FICO:\n",
    "\n",
    "The Fico score of the customer (Credit score issued by the Bureau)\n",
    "\n",
    "\n",
    "## How can these factors potentially affect the loan delinquency?\n",
    "\n",
    "Loan term: The length of the loan term can affect a borrower's ability to repay the loan. Longer loan terms may result in higher chances of delinquency, as borrowers have more time to encounter financial difficulties.\n",
    "\n",
    "Gender: While gender should not be a factor in determining loan delinquency, some studies have shown that there may be statistically significant differences in delinquency rates between genders. However, it's important to note that these differences may be influenced by other factors like income, employment stability, or loan amount.\n",
    "\n",
    "Purpose of loan: The purpose for which the borrower is taking the loan can have an impact on delinquency. For example, loans taken for education or medical expenses may have lower delinquency rates compared to loans taken for high-risk ventures like starting a business.\n",
    "\n",
    "Home ownership status: Home ownership status can be an indicator of stability and financial responsibility. Homeowners may have lower delinquency rates compared to renters, as they have an asset and are more likely to have stable income.\n",
    "\n",
    "Age: Age can be a factor in delinquency, as younger borrowers may have less financial stability and experience compared to older borrowers. However, it's important to assess age in conjunction with other factors like employment stability, income, and credit history.\n",
    "\n",
    "FICO score: FICO score is a widely used credit scoring system that assesses a borrower's creditworthiness. Lower FICO scores indicate higher risk, and borrowers with lower scores may have higher delinquency rates. FICO score is considered one of the most important factors in predicting loan delinquency.\n",
    "\n",
    "These factors are not exhaustive, and other variables like income, employment stability, debt-to-income ratio, and previous delinquency history may also be important in predicting loan delinquency. It's important to analyze and assess multiple factors together to get a comprehensive understanding of a borrower's risk profile."
   ]
  },
  {
   "cell_type": "code",
   "execution_count": 1,
   "id": "76c8e2af",
   "metadata": {},
   "outputs": [],
   "source": [
    "# Importing required Libraries\n",
    "\n",
    "import os, sys\n",
    "import numpy as np\n",
    "import pandas as pd\n",
    "import matplotlib.pyplot as plt\n",
    "import seaborn as sns\n",
    "import statsmodels.api as sm\n",
    "import scipy.stats as stats\n",
    "import warnings\n",
    "warnings.filterwarnings('ignore')\n",
    "%matplotlib inline\n",
    "sns.set()\n",
    "pd.set_option('display.max_rows',None)\n",
    "pd.set_option('display.max_columns',None)\n",
    "sns.set_style('whitegrid')"
   ]
  },
  {
   "cell_type": "code",
   "execution_count": 2,
   "id": "d4034dd5",
   "metadata": {},
   "outputs": [],
   "source": [
    "# Loading the dataset\n",
    "\n",
    "df = pd.read_csv('Loan Delinquent Dataset.csv')"
   ]
  },
  {
   "cell_type": "code",
   "execution_count": 3,
   "id": "5dc14bbd",
   "metadata": {},
   "outputs": [
    {
     "data": {
      "text/plain": [
       "Index(['ID', 'delinquent', 'Sdelinquent', 'term', 'gender', 'purpose',\n",
       "       'home_ownership', 'age', 'FICO'],\n",
       "      dtype='object')"
      ]
     },
     "execution_count": 3,
     "metadata": {},
     "output_type": "execute_result"
    }
   ],
   "source": [
    "# Columns present in the dataset\n",
    "\n",
    "df.columns"
   ]
  },
  {
   "cell_type": "code",
   "execution_count": 4,
   "id": "f76b3154",
   "metadata": {},
   "outputs": [
    {
     "data": {
      "text/html": [
       "<div>\n",
       "<style scoped>\n",
       "    .dataframe tbody tr th:only-of-type {\n",
       "        vertical-align: middle;\n",
       "    }\n",
       "\n",
       "    .dataframe tbody tr th {\n",
       "        vertical-align: top;\n",
       "    }\n",
       "\n",
       "    .dataframe thead th {\n",
       "        text-align: right;\n",
       "    }\n",
       "</style>\n",
       "<table border=\"1\" class=\"dataframe\">\n",
       "  <thead>\n",
       "    <tr style=\"text-align: right;\">\n",
       "      <th></th>\n",
       "      <th>ID</th>\n",
       "      <th>delinquent</th>\n",
       "      <th>Sdelinquent</th>\n",
       "      <th>term</th>\n",
       "      <th>gender</th>\n",
       "      <th>purpose</th>\n",
       "      <th>home_ownership</th>\n",
       "      <th>age</th>\n",
       "      <th>FICO</th>\n",
       "    </tr>\n",
       "  </thead>\n",
       "  <tbody>\n",
       "    <tr>\n",
       "      <th>0</th>\n",
       "      <td>1</td>\n",
       "      <td>Yes</td>\n",
       "      <td>1</td>\n",
       "      <td>36 months</td>\n",
       "      <td>Female</td>\n",
       "      <td>House</td>\n",
       "      <td>Mortgage</td>\n",
       "      <td>&gt;25</td>\n",
       "      <td>300-500</td>\n",
       "    </tr>\n",
       "    <tr>\n",
       "      <th>1</th>\n",
       "      <td>2</td>\n",
       "      <td>No</td>\n",
       "      <td>0</td>\n",
       "      <td>36 months</td>\n",
       "      <td>Female</td>\n",
       "      <td>House</td>\n",
       "      <td>Rent</td>\n",
       "      <td>20-25</td>\n",
       "      <td>&gt;500</td>\n",
       "    </tr>\n",
       "    <tr>\n",
       "      <th>2</th>\n",
       "      <td>3</td>\n",
       "      <td>Yes</td>\n",
       "      <td>1</td>\n",
       "      <td>36 months</td>\n",
       "      <td>Female</td>\n",
       "      <td>House</td>\n",
       "      <td>Rent</td>\n",
       "      <td>&gt;25</td>\n",
       "      <td>300-500</td>\n",
       "    </tr>\n",
       "    <tr>\n",
       "      <th>3</th>\n",
       "      <td>4</td>\n",
       "      <td>Yes</td>\n",
       "      <td>1</td>\n",
       "      <td>36 months</td>\n",
       "      <td>Female</td>\n",
       "      <td>Car</td>\n",
       "      <td>Mortgage</td>\n",
       "      <td>&gt;25</td>\n",
       "      <td>300-500</td>\n",
       "    </tr>\n",
       "    <tr>\n",
       "      <th>4</th>\n",
       "      <td>5</td>\n",
       "      <td>Yes</td>\n",
       "      <td>1</td>\n",
       "      <td>36 months</td>\n",
       "      <td>Female</td>\n",
       "      <td>House</td>\n",
       "      <td>Rent</td>\n",
       "      <td>&gt;25</td>\n",
       "      <td>300-500</td>\n",
       "    </tr>\n",
       "  </tbody>\n",
       "</table>\n",
       "</div>"
      ],
      "text/plain": [
       "   ID delinquent  Sdelinquent       term  gender purpose home_ownership  \\\n",
       "0   1        Yes            1  36 months  Female   House       Mortgage   \n",
       "1   2         No            0  36 months  Female   House           Rent   \n",
       "2   3        Yes            1  36 months  Female   House           Rent   \n",
       "3   4        Yes            1  36 months  Female     Car       Mortgage   \n",
       "4   5        Yes            1  36 months  Female   House           Rent   \n",
       "\n",
       "     age     FICO  \n",
       "0    >25  300-500  \n",
       "1  20-25     >500  \n",
       "2    >25  300-500  \n",
       "3    >25  300-500  \n",
       "4    >25  300-500  "
      ]
     },
     "execution_count": 4,
     "metadata": {},
     "output_type": "execute_result"
    }
   ],
   "source": [
    "df.head()"
   ]
  },
  {
   "cell_type": "code",
   "execution_count": 5,
   "id": "7b83ac5c",
   "metadata": {},
   "outputs": [],
   "source": [
    "# Renaming the Column names:\n",
    "\n",
    "df = df.rename(columns = {'ID':'Id', 'Sdelinquent':'Delinquent', 'term':'Loan_term', 'gender':'Gender', 'purpose':'Loan_purpose',\n",
    "                     'home_ownership':'Home_ownership', 'age':'Age', 'FICO':'Fico_score'})"
   ]
  },
  {
   "cell_type": "code",
   "execution_count": 6,
   "id": "60e73de1",
   "metadata": {},
   "outputs": [
    {
     "data": {
      "text/html": [
       "<div>\n",
       "<style scoped>\n",
       "    .dataframe tbody tr th:only-of-type {\n",
       "        vertical-align: middle;\n",
       "    }\n",
       "\n",
       "    .dataframe tbody tr th {\n",
       "        vertical-align: top;\n",
       "    }\n",
       "\n",
       "    .dataframe thead th {\n",
       "        text-align: right;\n",
       "    }\n",
       "</style>\n",
       "<table border=\"1\" class=\"dataframe\">\n",
       "  <thead>\n",
       "    <tr style=\"text-align: right;\">\n",
       "      <th></th>\n",
       "      <th>Id</th>\n",
       "      <th>delinquent</th>\n",
       "      <th>Delinquent</th>\n",
       "      <th>Loan_term</th>\n",
       "      <th>Gender</th>\n",
       "      <th>Loan_purpose</th>\n",
       "      <th>Home_ownership</th>\n",
       "      <th>Age</th>\n",
       "      <th>Fico_score</th>\n",
       "    </tr>\n",
       "  </thead>\n",
       "  <tbody>\n",
       "    <tr>\n",
       "      <th>0</th>\n",
       "      <td>1</td>\n",
       "      <td>Yes</td>\n",
       "      <td>1</td>\n",
       "      <td>36 months</td>\n",
       "      <td>Female</td>\n",
       "      <td>House</td>\n",
       "      <td>Mortgage</td>\n",
       "      <td>&gt;25</td>\n",
       "      <td>300-500</td>\n",
       "    </tr>\n",
       "    <tr>\n",
       "      <th>1</th>\n",
       "      <td>2</td>\n",
       "      <td>No</td>\n",
       "      <td>0</td>\n",
       "      <td>36 months</td>\n",
       "      <td>Female</td>\n",
       "      <td>House</td>\n",
       "      <td>Rent</td>\n",
       "      <td>20-25</td>\n",
       "      <td>&gt;500</td>\n",
       "    </tr>\n",
       "    <tr>\n",
       "      <th>2</th>\n",
       "      <td>3</td>\n",
       "      <td>Yes</td>\n",
       "      <td>1</td>\n",
       "      <td>36 months</td>\n",
       "      <td>Female</td>\n",
       "      <td>House</td>\n",
       "      <td>Rent</td>\n",
       "      <td>&gt;25</td>\n",
       "      <td>300-500</td>\n",
       "    </tr>\n",
       "    <tr>\n",
       "      <th>3</th>\n",
       "      <td>4</td>\n",
       "      <td>Yes</td>\n",
       "      <td>1</td>\n",
       "      <td>36 months</td>\n",
       "      <td>Female</td>\n",
       "      <td>Car</td>\n",
       "      <td>Mortgage</td>\n",
       "      <td>&gt;25</td>\n",
       "      <td>300-500</td>\n",
       "    </tr>\n",
       "    <tr>\n",
       "      <th>4</th>\n",
       "      <td>5</td>\n",
       "      <td>Yes</td>\n",
       "      <td>1</td>\n",
       "      <td>36 months</td>\n",
       "      <td>Female</td>\n",
       "      <td>House</td>\n",
       "      <td>Rent</td>\n",
       "      <td>&gt;25</td>\n",
       "      <td>300-500</td>\n",
       "    </tr>\n",
       "    <tr>\n",
       "      <th>5</th>\n",
       "      <td>6</td>\n",
       "      <td>Yes</td>\n",
       "      <td>1</td>\n",
       "      <td>36 months</td>\n",
       "      <td>Male</td>\n",
       "      <td>Car</td>\n",
       "      <td>Own</td>\n",
       "      <td>&gt;25</td>\n",
       "      <td>&gt;500</td>\n",
       "    </tr>\n",
       "    <tr>\n",
       "      <th>6</th>\n",
       "      <td>7</td>\n",
       "      <td>No</td>\n",
       "      <td>0</td>\n",
       "      <td>36 months</td>\n",
       "      <td>Female</td>\n",
       "      <td>House</td>\n",
       "      <td>Rent</td>\n",
       "      <td>&gt;25</td>\n",
       "      <td>&gt;500</td>\n",
       "    </tr>\n",
       "    <tr>\n",
       "      <th>7</th>\n",
       "      <td>8</td>\n",
       "      <td>No</td>\n",
       "      <td>0</td>\n",
       "      <td>36 months</td>\n",
       "      <td>Male</td>\n",
       "      <td>House</td>\n",
       "      <td>Mortgage</td>\n",
       "      <td>&gt;25</td>\n",
       "      <td>&gt;500</td>\n",
       "    </tr>\n",
       "    <tr>\n",
       "      <th>8</th>\n",
       "      <td>9</td>\n",
       "      <td>Yes</td>\n",
       "      <td>1</td>\n",
       "      <td>36 months</td>\n",
       "      <td>Male</td>\n",
       "      <td>House</td>\n",
       "      <td>Rent</td>\n",
       "      <td>&gt;25</td>\n",
       "      <td>&gt;500</td>\n",
       "    </tr>\n",
       "    <tr>\n",
       "      <th>9</th>\n",
       "      <td>10</td>\n",
       "      <td>Yes</td>\n",
       "      <td>1</td>\n",
       "      <td>36 months</td>\n",
       "      <td>Female</td>\n",
       "      <td>House</td>\n",
       "      <td>Rent</td>\n",
       "      <td>20-25</td>\n",
       "      <td>&gt;500</td>\n",
       "    </tr>\n",
       "  </tbody>\n",
       "</table>\n",
       "</div>"
      ],
      "text/plain": [
       "   Id delinquent  Delinquent  Loan_term  Gender Loan_purpose Home_ownership  \\\n",
       "0   1        Yes           1  36 months  Female        House       Mortgage   \n",
       "1   2         No           0  36 months  Female        House           Rent   \n",
       "2   3        Yes           1  36 months  Female        House           Rent   \n",
       "3   4        Yes           1  36 months  Female          Car       Mortgage   \n",
       "4   5        Yes           1  36 months  Female        House           Rent   \n",
       "5   6        Yes           1  36 months    Male          Car            Own   \n",
       "6   7         No           0  36 months  Female        House           Rent   \n",
       "7   8         No           0  36 months    Male        House       Mortgage   \n",
       "8   9        Yes           1  36 months    Male        House           Rent   \n",
       "9  10        Yes           1  36 months  Female        House           Rent   \n",
       "\n",
       "     Age Fico_score  \n",
       "0    >25    300-500  \n",
       "1  20-25       >500  \n",
       "2    >25    300-500  \n",
       "3    >25    300-500  \n",
       "4    >25    300-500  \n",
       "5    >25       >500  \n",
       "6    >25       >500  \n",
       "7    >25       >500  \n",
       "8    >25       >500  \n",
       "9  20-25       >500  "
      ]
     },
     "execution_count": 6,
     "metadata": {},
     "output_type": "execute_result"
    }
   ],
   "source": [
    "# Checking the first 10 rows\n",
    "\n",
    "df.head(10)"
   ]
  },
  {
   "cell_type": "code",
   "execution_count": 7,
   "id": "7302cc2f",
   "metadata": {},
   "outputs": [],
   "source": [
    "# Since Delinquent is just same as delinquent in numeric form, dropping the column as shown:\n",
    "\n",
    "df.drop('delinquent', axis=1, inplace=True)"
   ]
  },
  {
   "cell_type": "code",
   "execution_count": 8,
   "id": "a60a2f3e",
   "metadata": {},
   "outputs": [
    {
     "data": {
      "text/html": [
       "<div>\n",
       "<style scoped>\n",
       "    .dataframe tbody tr th:only-of-type {\n",
       "        vertical-align: middle;\n",
       "    }\n",
       "\n",
       "    .dataframe tbody tr th {\n",
       "        vertical-align: top;\n",
       "    }\n",
       "\n",
       "    .dataframe thead th {\n",
       "        text-align: right;\n",
       "    }\n",
       "</style>\n",
       "<table border=\"1\" class=\"dataframe\">\n",
       "  <thead>\n",
       "    <tr style=\"text-align: right;\">\n",
       "      <th></th>\n",
       "      <th>Id</th>\n",
       "      <th>Delinquent</th>\n",
       "      <th>Loan_term</th>\n",
       "      <th>Gender</th>\n",
       "      <th>Loan_purpose</th>\n",
       "      <th>Home_ownership</th>\n",
       "      <th>Age</th>\n",
       "      <th>Fico_score</th>\n",
       "    </tr>\n",
       "  </thead>\n",
       "  <tbody>\n",
       "    <tr>\n",
       "      <th>11538</th>\n",
       "      <td>11539</td>\n",
       "      <td>0</td>\n",
       "      <td>36 months</td>\n",
       "      <td>Female</td>\n",
       "      <td>Other</td>\n",
       "      <td>Mortgage</td>\n",
       "      <td>&gt;25</td>\n",
       "      <td>&gt;500</td>\n",
       "    </tr>\n",
       "    <tr>\n",
       "      <th>11539</th>\n",
       "      <td>11540</td>\n",
       "      <td>0</td>\n",
       "      <td>60 months</td>\n",
       "      <td>Male</td>\n",
       "      <td>House</td>\n",
       "      <td>Rent</td>\n",
       "      <td>&gt;25</td>\n",
       "      <td>&gt;500</td>\n",
       "    </tr>\n",
       "    <tr>\n",
       "      <th>11540</th>\n",
       "      <td>11541</td>\n",
       "      <td>1</td>\n",
       "      <td>36 months</td>\n",
       "      <td>Female</td>\n",
       "      <td>House</td>\n",
       "      <td>Rent</td>\n",
       "      <td>&gt;25</td>\n",
       "      <td>300-500</td>\n",
       "    </tr>\n",
       "    <tr>\n",
       "      <th>11541</th>\n",
       "      <td>11542</td>\n",
       "      <td>1</td>\n",
       "      <td>36 months</td>\n",
       "      <td>Female</td>\n",
       "      <td>Wedding</td>\n",
       "      <td>Rent</td>\n",
       "      <td>&gt;25</td>\n",
       "      <td>300-500</td>\n",
       "    </tr>\n",
       "    <tr>\n",
       "      <th>11542</th>\n",
       "      <td>11543</td>\n",
       "      <td>1</td>\n",
       "      <td>36 months</td>\n",
       "      <td>Male</td>\n",
       "      <td>House</td>\n",
       "      <td>Mortgage</td>\n",
       "      <td>&gt;25</td>\n",
       "      <td>&gt;500</td>\n",
       "    </tr>\n",
       "    <tr>\n",
       "      <th>11543</th>\n",
       "      <td>11544</td>\n",
       "      <td>0</td>\n",
       "      <td>60 months</td>\n",
       "      <td>Male</td>\n",
       "      <td>other</td>\n",
       "      <td>Mortgage</td>\n",
       "      <td>&gt;25</td>\n",
       "      <td>300-500</td>\n",
       "    </tr>\n",
       "    <tr>\n",
       "      <th>11544</th>\n",
       "      <td>11545</td>\n",
       "      <td>1</td>\n",
       "      <td>36 months</td>\n",
       "      <td>Male</td>\n",
       "      <td>House</td>\n",
       "      <td>Rent</td>\n",
       "      <td>20-25</td>\n",
       "      <td>300-500</td>\n",
       "    </tr>\n",
       "    <tr>\n",
       "      <th>11545</th>\n",
       "      <td>11546</td>\n",
       "      <td>0</td>\n",
       "      <td>36 months</td>\n",
       "      <td>Female</td>\n",
       "      <td>Personal</td>\n",
       "      <td>Mortgage</td>\n",
       "      <td>20-25</td>\n",
       "      <td>&gt;500</td>\n",
       "    </tr>\n",
       "    <tr>\n",
       "      <th>11546</th>\n",
       "      <td>11547</td>\n",
       "      <td>1</td>\n",
       "      <td>36 months</td>\n",
       "      <td>Female</td>\n",
       "      <td>House</td>\n",
       "      <td>Rent</td>\n",
       "      <td>20-25</td>\n",
       "      <td>300-500</td>\n",
       "    </tr>\n",
       "    <tr>\n",
       "      <th>11547</th>\n",
       "      <td>11548</td>\n",
       "      <td>1</td>\n",
       "      <td>36 months</td>\n",
       "      <td>Male</td>\n",
       "      <td>Personal</td>\n",
       "      <td>Mortgage</td>\n",
       "      <td>20-25</td>\n",
       "      <td>300-500</td>\n",
       "    </tr>\n",
       "  </tbody>\n",
       "</table>\n",
       "</div>"
      ],
      "text/plain": [
       "          Id  Delinquent  Loan_term  Gender Loan_purpose Home_ownership  \\\n",
       "11538  11539           0  36 months  Female        Other       Mortgage   \n",
       "11539  11540           0  60 months    Male        House           Rent   \n",
       "11540  11541           1  36 months  Female        House           Rent   \n",
       "11541  11542           1  36 months  Female      Wedding           Rent   \n",
       "11542  11543           1  36 months    Male        House       Mortgage   \n",
       "11543  11544           0  60 months    Male        other       Mortgage   \n",
       "11544  11545           1  36 months    Male        House           Rent   \n",
       "11545  11546           0  36 months  Female     Personal       Mortgage   \n",
       "11546  11547           1  36 months  Female        House           Rent   \n",
       "11547  11548           1  36 months    Male     Personal       Mortgage   \n",
       "\n",
       "         Age Fico_score  \n",
       "11538    >25       >500  \n",
       "11539    >25       >500  \n",
       "11540    >25    300-500  \n",
       "11541    >25    300-500  \n",
       "11542    >25       >500  \n",
       "11543    >25    300-500  \n",
       "11544  20-25    300-500  \n",
       "11545  20-25       >500  \n",
       "11546  20-25    300-500  \n",
       "11547  20-25    300-500  "
      ]
     },
     "execution_count": 8,
     "metadata": {},
     "output_type": "execute_result"
    }
   ],
   "source": [
    "# Checking the last 10 rows\n",
    "\n",
    "df.tail(10)"
   ]
  },
  {
   "cell_type": "code",
   "execution_count": 9,
   "id": "b8ec3485",
   "metadata": {},
   "outputs": [
    {
     "name": "stdout",
     "output_type": "stream",
     "text": [
      "Total number of observations/rows are: 11548\n",
      "Total number of features/columns are: 8\n"
     ]
    }
   ],
   "source": [
    "# Checking the number of rows and columns.\n",
    "\n",
    "print('Total number of observations/rows are:',df.shape[0])\n",
    "print('Total number of features/columns are:',df.shape[1])"
   ]
  },
  {
   "cell_type": "code",
   "execution_count": 10,
   "id": "4cd5d4cd",
   "metadata": {},
   "outputs": [
    {
     "name": "stdout",
     "output_type": "stream",
     "text": [
      "<class 'pandas.core.frame.DataFrame'>\n",
      "RangeIndex: 11548 entries, 0 to 11547\n",
      "Data columns (total 8 columns):\n",
      " #   Column          Non-Null Count  Dtype \n",
      "---  ------          --------------  ----- \n",
      " 0   Id              11548 non-null  int64 \n",
      " 1   Delinquent      11548 non-null  int64 \n",
      " 2   Loan_term       11548 non-null  object\n",
      " 3   Gender          11548 non-null  object\n",
      " 4   Loan_purpose    11548 non-null  object\n",
      " 5   Home_ownership  11548 non-null  object\n",
      " 6   Age             11548 non-null  object\n",
      " 7   Fico_score      11548 non-null  object\n",
      "dtypes: int64(2), object(6)\n",
      "memory usage: 721.9+ KB\n"
     ]
    }
   ],
   "source": [
    "# Checking the basic info of the data.\n",
    "\n",
    "df.info()"
   ]
  },
  {
   "cell_type": "code",
   "execution_count": 11,
   "id": "71d62b19",
   "metadata": {},
   "outputs": [
    {
     "data": {
      "text/html": [
       "<div>\n",
       "<style scoped>\n",
       "    .dataframe tbody tr th:only-of-type {\n",
       "        vertical-align: middle;\n",
       "    }\n",
       "\n",
       "    .dataframe tbody tr th {\n",
       "        vertical-align: top;\n",
       "    }\n",
       "\n",
       "    .dataframe thead th {\n",
       "        text-align: right;\n",
       "    }\n",
       "</style>\n",
       "<table border=\"1\" class=\"dataframe\">\n",
       "  <thead>\n",
       "    <tr style=\"text-align: right;\">\n",
       "      <th></th>\n",
       "      <th>count</th>\n",
       "      <th>unique</th>\n",
       "      <th>top</th>\n",
       "      <th>freq</th>\n",
       "      <th>mean</th>\n",
       "      <th>std</th>\n",
       "      <th>min</th>\n",
       "      <th>25%</th>\n",
       "      <th>50%</th>\n",
       "      <th>75%</th>\n",
       "      <th>max</th>\n",
       "    </tr>\n",
       "  </thead>\n",
       "  <tbody>\n",
       "    <tr>\n",
       "      <th>Id</th>\n",
       "      <td>11548.0</td>\n",
       "      <td>NaN</td>\n",
       "      <td>NaN</td>\n",
       "      <td>NaN</td>\n",
       "      <td>5774.5</td>\n",
       "      <td>3333.764789</td>\n",
       "      <td>1.0</td>\n",
       "      <td>2887.75</td>\n",
       "      <td>5774.5</td>\n",
       "      <td>8661.25</td>\n",
       "      <td>11548.0</td>\n",
       "    </tr>\n",
       "    <tr>\n",
       "      <th>Delinquent</th>\n",
       "      <td>11548.0</td>\n",
       "      <td>NaN</td>\n",
       "      <td>NaN</td>\n",
       "      <td>NaN</td>\n",
       "      <td>0.668601</td>\n",
       "      <td>0.470737</td>\n",
       "      <td>0.0</td>\n",
       "      <td>0.0</td>\n",
       "      <td>1.0</td>\n",
       "      <td>1.0</td>\n",
       "      <td>1.0</td>\n",
       "    </tr>\n",
       "    <tr>\n",
       "      <th>Loan_term</th>\n",
       "      <td>11548</td>\n",
       "      <td>2</td>\n",
       "      <td>36 months</td>\n",
       "      <td>10589</td>\n",
       "      <td>NaN</td>\n",
       "      <td>NaN</td>\n",
       "      <td>NaN</td>\n",
       "      <td>NaN</td>\n",
       "      <td>NaN</td>\n",
       "      <td>NaN</td>\n",
       "      <td>NaN</td>\n",
       "    </tr>\n",
       "    <tr>\n",
       "      <th>Gender</th>\n",
       "      <td>11548</td>\n",
       "      <td>2</td>\n",
       "      <td>Male</td>\n",
       "      <td>6555</td>\n",
       "      <td>NaN</td>\n",
       "      <td>NaN</td>\n",
       "      <td>NaN</td>\n",
       "      <td>NaN</td>\n",
       "      <td>NaN</td>\n",
       "      <td>NaN</td>\n",
       "      <td>NaN</td>\n",
       "    </tr>\n",
       "    <tr>\n",
       "      <th>Loan_purpose</th>\n",
       "      <td>11548</td>\n",
       "      <td>7</td>\n",
       "      <td>House</td>\n",
       "      <td>6892</td>\n",
       "      <td>NaN</td>\n",
       "      <td>NaN</td>\n",
       "      <td>NaN</td>\n",
       "      <td>NaN</td>\n",
       "      <td>NaN</td>\n",
       "      <td>NaN</td>\n",
       "      <td>NaN</td>\n",
       "    </tr>\n",
       "    <tr>\n",
       "      <th>Home_ownership</th>\n",
       "      <td>11548</td>\n",
       "      <td>3</td>\n",
       "      <td>Mortgage</td>\n",
       "      <td>5461</td>\n",
       "      <td>NaN</td>\n",
       "      <td>NaN</td>\n",
       "      <td>NaN</td>\n",
       "      <td>NaN</td>\n",
       "      <td>NaN</td>\n",
       "      <td>NaN</td>\n",
       "      <td>NaN</td>\n",
       "    </tr>\n",
       "    <tr>\n",
       "      <th>Age</th>\n",
       "      <td>11548</td>\n",
       "      <td>2</td>\n",
       "      <td>20-25</td>\n",
       "      <td>5888</td>\n",
       "      <td>NaN</td>\n",
       "      <td>NaN</td>\n",
       "      <td>NaN</td>\n",
       "      <td>NaN</td>\n",
       "      <td>NaN</td>\n",
       "      <td>NaN</td>\n",
       "      <td>NaN</td>\n",
       "    </tr>\n",
       "    <tr>\n",
       "      <th>Fico_score</th>\n",
       "      <td>11548</td>\n",
       "      <td>2</td>\n",
       "      <td>300-500</td>\n",
       "      <td>6370</td>\n",
       "      <td>NaN</td>\n",
       "      <td>NaN</td>\n",
       "      <td>NaN</td>\n",
       "      <td>NaN</td>\n",
       "      <td>NaN</td>\n",
       "      <td>NaN</td>\n",
       "      <td>NaN</td>\n",
       "    </tr>\n",
       "  </tbody>\n",
       "</table>\n",
       "</div>"
      ],
      "text/plain": [
       "                  count unique        top   freq      mean          std  min  \\\n",
       "Id              11548.0    NaN        NaN    NaN    5774.5  3333.764789  1.0   \n",
       "Delinquent      11548.0    NaN        NaN    NaN  0.668601     0.470737  0.0   \n",
       "Loan_term         11548      2  36 months  10589       NaN          NaN  NaN   \n",
       "Gender            11548      2       Male   6555       NaN          NaN  NaN   \n",
       "Loan_purpose      11548      7      House   6892       NaN          NaN  NaN   \n",
       "Home_ownership    11548      3   Mortgage   5461       NaN          NaN  NaN   \n",
       "Age               11548      2      20-25   5888       NaN          NaN  NaN   \n",
       "Fico_score        11548      2    300-500   6370       NaN          NaN  NaN   \n",
       "\n",
       "                    25%     50%      75%      max  \n",
       "Id              2887.75  5774.5  8661.25  11548.0  \n",
       "Delinquent          0.0     1.0      1.0      1.0  \n",
       "Loan_term           NaN     NaN      NaN      NaN  \n",
       "Gender              NaN     NaN      NaN      NaN  \n",
       "Loan_purpose        NaN     NaN      NaN      NaN  \n",
       "Home_ownership      NaN     NaN      NaN      NaN  \n",
       "Age                 NaN     NaN      NaN      NaN  \n",
       "Fico_score          NaN     NaN      NaN      NaN  "
      ]
     },
     "execution_count": 11,
     "metadata": {},
     "output_type": "execute_result"
    }
   ],
   "source": [
    "# Checking the data description of all the variables, which gives us the count, mean, std, minimum, 25th quartile, \n",
    "# median, 75th quartile and maximum values in the respective numerical columns.\n",
    "\n",
    "df.describe(include='all').T"
   ]
  },
  {
   "cell_type": "markdown",
   "id": "df95334a",
   "metadata": {},
   "source": [
    "It can be observed that:\n",
    "\n",
    "\n",
    "There are more borrowers who have been delinquent on repaying loans compared to the ones paying on time\n",
    "\n",
    "Majority of the borrowers opted for a loan term of 36 months i.e 2 years\n",
    "\n",
    "Majority of the borrowers are male\n",
    "\n",
    "Most of the loans are taken for the purpose of house\n",
    "\n",
    "Majority of the borrowers hold a mortgage on their houses\n",
    "\n",
    "Majority of the borrowers in this dataset belong to an age category of 20-25\n",
    "\n",
    "Since most of the data in the dataset consists of borrowers with delinquency, the majority of FICO score is reflected to be low i.e 300-500"
   ]
  },
  {
   "cell_type": "code",
   "execution_count": 12,
   "id": "457ebb4a",
   "metadata": {},
   "outputs": [],
   "source": [
    "# Since Id does not impact the loan delinquency parameter, it is being dropped from the dataset.\n",
    "\n",
    "df.drop('Id', axis=1, inplace=True)"
   ]
  },
  {
   "cell_type": "code",
   "execution_count": 13,
   "id": "0365f844",
   "metadata": {
    "scrolled": false
   },
   "outputs": [
    {
     "name": "stdout",
     "output_type": "stream",
     "text": [
      "************************************************** Delinquent **************************************************\n",
      "\n",
      "\n",
      "{0, 1}\n",
      "\n",
      "\n",
      "************************************************** Loan_term **************************************************\n",
      "\n",
      "\n",
      "{'60 months', '36 months'}\n",
      "\n",
      "\n",
      "************************************************** Gender **************************************************\n",
      "\n",
      "\n",
      "{'Female', 'Male'}\n",
      "\n",
      "\n",
      "************************************************** Loan_purpose **************************************************\n",
      "\n",
      "\n",
      "{'other', 'Wedding', 'Other', 'Car', 'Personal', 'House', 'Medical'}\n",
      "\n",
      "\n",
      "************************************************** Home_ownership **************************************************\n",
      "\n",
      "\n",
      "{'Own', 'Mortgage', 'Rent'}\n",
      "\n",
      "\n",
      "************************************************** Age **************************************************\n",
      "\n",
      "\n",
      "{'>25', '20-25'}\n",
      "\n",
      "\n",
      "************************************************** Fico_score **************************************************\n",
      "\n",
      "\n",
      "{'>500', '300-500'}\n",
      "\n",
      "\n"
     ]
    }
   ],
   "source": [
    "# Before Starting the Exploratory Data Analysis, Seeing how the data values look like for all the observations:\n",
    "\n",
    "for i in df.columns:\n",
    "    print('*'*50, i, '*'*50)\n",
    "    print('\\n')\n",
    "    print(set(df[i].to_list()))\n",
    "    print('\\n')"
   ]
  },
  {
   "cell_type": "markdown",
   "id": "49ffc7dc",
   "metadata": {},
   "source": [
    "# Exploratory Data Analysis"
   ]
  },
  {
   "cell_type": "markdown",
   "id": "96fcf0e2",
   "metadata": {},
   "source": [
    "## Univariate Analysis of the features"
   ]
  },
  {
   "cell_type": "code",
   "execution_count": 14,
   "id": "786538c7",
   "metadata": {},
   "outputs": [
    {
     "data": {
      "image/png": "[encoded data removed]",
      "text/plain": [
       "<Figure size 640x480 with 1 Axes>"
      ]
     },
     "metadata": {},
     "output_type": "display_data"
    }
   ],
   "source": [
    "# Checking the feature Delinquent\n",
    "\n",
    "sns.countplot(data=df, x = 'Delinquent')\n",
    "plt.show()"
   ]
  },
  {
   "cell_type": "code",
   "execution_count": 15,
   "id": "4593e59f",
   "metadata": {},
   "outputs": [
    {
     "data": {
      "text/plain": [
       "Delinquent\n",
       "1    7721\n",
       "0    3827\n",
       "Name: count, dtype: int64"
      ]
     },
     "execution_count": 15,
     "metadata": {},
     "output_type": "execute_result"
    }
   ],
   "source": [
    "df['Delinquent'].value_counts()"
   ]
  },
  {
   "cell_type": "markdown",
   "id": "e588dfb2",
   "metadata": {},
   "source": [
    "It is observed that majority of the observations are delinquent"
   ]
  },
  {
   "cell_type": "code",
   "execution_count": 16,
   "id": "4b7f0ec0",
   "metadata": {
    "scrolled": false
   },
   "outputs": [
    {
     "data": {
      "image/png": "[encoded data removed]",
      "text/plain": [
       "<Figure size 640x480 with 1 Axes>"
      ]
     },
     "metadata": {},
     "output_type": "display_data"
    },
    {
     "data": {
      "image/png": "[encoded data removed]",
      "text/plain": [
       "<Figure size 640x480 with 1 Axes>"
      ]
     },
     "metadata": {},
     "output_type": "display_data"
    },
    {
     "data": {
      "image/png": "[encoded data removed]",
      "text/plain": [
       "<Figure size 640x480 with 1 Axes>"
      ]
     },
     "metadata": {},
     "output_type": "display_data"
    },
    {
     "data": {
      "image/png": "[encoded data removed]",
      "text/plain": [
       "<Figure size 640x480 with 1 Axes>"
      ]
     },
     "metadata": {},
     "output_type": "display_data"
    },
    {
     "data": {
      "image/png": "[encoded data removed]",
      "text/plain": [
       "<Figure size 640x480 with 1 Axes>"
      ]
     },
     "metadata": {},
     "output_type": "display_data"
    },
    {
     "data": {
      "image/png": "[encoded data removed]",
      "text/plain": [
       "<Figure size 640x480 with 1 Axes>"
      ]
     },
     "metadata": {},
     "output_type": "display_data"
    }
   ],
   "source": [
    "# Checking how the features are distributed\n",
    "\n",
    "for cols in df.drop('Delinquent', axis = 1).columns:\n",
    "    sns.countplot(data=df, x = cols, hue='Delinquent')\n",
    "    plt.show()"
   ]
  },
  {
   "cell_type": "markdown",
   "id": "4e8f6ec7",
   "metadata": {},
   "source": [
    "Key observations:\n",
    "\n",
    "Mostly the age category of 20-25 seem to have caused delinquency\n",
    "\n",
    "Brorowers with low FICO score of 300-500 are more likely to have caused loan delinquency"
   ]
  },
  {
   "cell_type": "markdown",
   "id": "67aa43f0",
   "metadata": {},
   "source": [
    "# Data Preprocessing"
   ]
  },
  {
   "cell_type": "markdown",
   "id": "98831ad2",
   "metadata": {},
   "source": [
    "## Handling missing values"
   ]
  },
  {
   "cell_type": "code",
   "execution_count": 17,
   "id": "f11d99dd",
   "metadata": {},
   "outputs": [
    {
     "data": {
      "text/html": [
       "<div>\n",
       "<style scoped>\n",
       "    .dataframe tbody tr th:only-of-type {\n",
       "        vertical-align: middle;\n",
       "    }\n",
       "\n",
       "    .dataframe tbody tr th {\n",
       "        vertical-align: top;\n",
       "    }\n",
       "\n",
       "    .dataframe thead th {\n",
       "        text-align: right;\n",
       "    }\n",
       "</style>\n",
       "<table border=\"1\" class=\"dataframe\">\n",
       "  <thead>\n",
       "    <tr style=\"text-align: right;\">\n",
       "      <th></th>\n",
       "      <th>Missing Value %</th>\n",
       "    </tr>\n",
       "  </thead>\n",
       "  <tbody>\n",
       "    <tr>\n",
       "      <th>Delinquent</th>\n",
       "      <td>0.0</td>\n",
       "    </tr>\n",
       "    <tr>\n",
       "      <th>Loan_term</th>\n",
       "      <td>0.0</td>\n",
       "    </tr>\n",
       "    <tr>\n",
       "      <th>Gender</th>\n",
       "      <td>0.0</td>\n",
       "    </tr>\n",
       "    <tr>\n",
       "      <th>Loan_purpose</th>\n",
       "      <td>0.0</td>\n",
       "    </tr>\n",
       "    <tr>\n",
       "      <th>Home_ownership</th>\n",
       "      <td>0.0</td>\n",
       "    </tr>\n",
       "    <tr>\n",
       "      <th>Age</th>\n",
       "      <td>0.0</td>\n",
       "    </tr>\n",
       "    <tr>\n",
       "      <th>Fico_score</th>\n",
       "      <td>0.0</td>\n",
       "    </tr>\n",
       "  </tbody>\n",
       "</table>\n",
       "</div>"
      ],
      "text/plain": [
       "                Missing Value %\n",
       "Delinquent                  0.0\n",
       "Loan_term                   0.0\n",
       "Gender                      0.0\n",
       "Loan_purpose                0.0\n",
       "Home_ownership              0.0\n",
       "Age                         0.0\n",
       "Fico_score                  0.0"
      ]
     },
     "execution_count": 17,
     "metadata": {},
     "output_type": "execute_result"
    }
   ],
   "source": [
    "# Checking what percent of values are missing in each feature.\n",
    "\n",
    "pd.DataFrame(df.isnull().sum()/len(df)*100, columns=['Missing Value %'], index = df.columns)"
   ]
  },
  {
   "cell_type": "markdown",
   "id": "8c84d305",
   "metadata": {},
   "source": [
    "There are no missing values in the data"
   ]
  },
  {
   "cell_type": "code",
   "execution_count": 18,
   "id": "5c9399eb",
   "metadata": {},
   "outputs": [
    {
     "data": {
      "text/html": [
       "<div>\n",
       "<style scoped>\n",
       "    .dataframe tbody tr th:only-of-type {\n",
       "        vertical-align: middle;\n",
       "    }\n",
       "\n",
       "    .dataframe tbody tr th {\n",
       "        vertical-align: top;\n",
       "    }\n",
       "\n",
       "    .dataframe thead th {\n",
       "        text-align: right;\n",
       "    }\n",
       "</style>\n",
       "<table border=\"1\" class=\"dataframe\">\n",
       "  <thead>\n",
       "    <tr style=\"text-align: right;\">\n",
       "      <th></th>\n",
       "      <th>Data Type</th>\n",
       "    </tr>\n",
       "  </thead>\n",
       "  <tbody>\n",
       "    <tr>\n",
       "      <th>Delinquent</th>\n",
       "      <td>int64</td>\n",
       "    </tr>\n",
       "    <tr>\n",
       "      <th>Loan_term</th>\n",
       "      <td>object</td>\n",
       "    </tr>\n",
       "    <tr>\n",
       "      <th>Gender</th>\n",
       "      <td>object</td>\n",
       "    </tr>\n",
       "    <tr>\n",
       "      <th>Loan_purpose</th>\n",
       "      <td>object</td>\n",
       "    </tr>\n",
       "    <tr>\n",
       "      <th>Home_ownership</th>\n",
       "      <td>object</td>\n",
       "    </tr>\n",
       "    <tr>\n",
       "      <th>Age</th>\n",
       "      <td>object</td>\n",
       "    </tr>\n",
       "    <tr>\n",
       "      <th>Fico_score</th>\n",
       "      <td>object</td>\n",
       "    </tr>\n",
       "  </tbody>\n",
       "</table>\n",
       "</div>"
      ],
      "text/plain": [
       "               Data Type\n",
       "Delinquent         int64\n",
       "Loan_term         object\n",
       "Gender            object\n",
       "Loan_purpose      object\n",
       "Home_ownership    object\n",
       "Age               object\n",
       "Fico_score        object"
      ]
     },
     "execution_count": 18,
     "metadata": {},
     "output_type": "execute_result"
    }
   ],
   "source": [
    "# Checking the datatypes of the features, in order to convert the same into numeric\n",
    "\n",
    "pd.DataFrame(df.dtypes, columns= ['Data Type'], index = df.columns)"
   ]
  },
  {
   "cell_type": "markdown",
   "id": "fa059aaf",
   "metadata": {},
   "source": [
    "## Label Encoding"
   ]
  },
  {
   "cell_type": "code",
   "execution_count": 19,
   "id": "5dadbb06",
   "metadata": {},
   "outputs": [],
   "source": [
    "# Converting the loan terms given in string format into numeric as shown:\n",
    "\n",
    "df['Loan_term'] = df['Loan_term'].replace({'36 months':0, '60 months':1})"
   ]
  },
  {
   "cell_type": "code",
   "execution_count": 20,
   "id": "64d2a91c",
   "metadata": {},
   "outputs": [],
   "source": [
    "# Converting the Gender given in string format into numeric as shown:\n",
    "\n",
    "df['Gender'] = df['Gender'].replace({'Female':0, 'Male':1})"
   ]
  },
  {
   "cell_type": "code",
   "execution_count": 21,
   "id": "536f9df6",
   "metadata": {},
   "outputs": [],
   "source": [
    "# Converting the Age given in string format into numeric as shown:\n",
    "\n",
    "df['Age'] = df['Age'].replace({'20-25':0, '>25':1})"
   ]
  },
  {
   "cell_type": "code",
   "execution_count": 22,
   "id": "09ad0493",
   "metadata": {},
   "outputs": [],
   "source": [
    "# Converting the Fico_score given in string format into numeric as shown:\n",
    "\n",
    "df['Fico_score'] = df['Fico_score'].replace({'300-500':0, '>500':1})"
   ]
  },
  {
   "cell_type": "markdown",
   "id": "f0ef0c88",
   "metadata": {},
   "source": [
    "## One Hot Encoding"
   ]
  },
  {
   "cell_type": "code",
   "execution_count": 23,
   "id": "4c7a1b14",
   "metadata": {},
   "outputs": [],
   "source": [
    "df['Loan_purpose'] = df['Loan_purpose'].replace({'other':'Other'})"
   ]
  },
  {
   "cell_type": "code",
   "execution_count": 24,
   "id": "b4877522",
   "metadata": {},
   "outputs": [],
   "source": [
    "df = pd.get_dummies(data=df,columns=['Loan_purpose', 'Home_ownership'], drop_first=True,dtype='int64')"
   ]
  },
  {
   "cell_type": "code",
   "execution_count": 25,
   "id": "1da6ece1",
   "metadata": {},
   "outputs": [
    {
     "data": {
      "text/html": [
       "<div>\n",
       "<style scoped>\n",
       "    .dataframe tbody tr th:only-of-type {\n",
       "        vertical-align: middle;\n",
       "    }\n",
       "\n",
       "    .dataframe tbody tr th {\n",
       "        vertical-align: top;\n",
       "    }\n",
       "\n",
       "    .dataframe thead th {\n",
       "        text-align: right;\n",
       "    }\n",
       "</style>\n",
       "<table border=\"1\" class=\"dataframe\">\n",
       "  <thead>\n",
       "    <tr style=\"text-align: right;\">\n",
       "      <th></th>\n",
       "      <th>Delinquent</th>\n",
       "      <th>Loan_term</th>\n",
       "      <th>Gender</th>\n",
       "      <th>Age</th>\n",
       "      <th>Fico_score</th>\n",
       "      <th>Loan_purpose_House</th>\n",
       "      <th>Loan_purpose_Medical</th>\n",
       "      <th>Loan_purpose_Other</th>\n",
       "      <th>Loan_purpose_Personal</th>\n",
       "      <th>Loan_purpose_Wedding</th>\n",
       "      <th>Home_ownership_Own</th>\n",
       "      <th>Home_ownership_Rent</th>\n",
       "    </tr>\n",
       "  </thead>\n",
       "  <tbody>\n",
       "    <tr>\n",
       "      <th>0</th>\n",
       "      <td>1</td>\n",
       "      <td>0</td>\n",
       "      <td>0</td>\n",
       "      <td>1</td>\n",
       "      <td>0</td>\n",
       "      <td>1</td>\n",
       "      <td>0</td>\n",
       "      <td>0</td>\n",
       "      <td>0</td>\n",
       "      <td>0</td>\n",
       "      <td>0</td>\n",
       "      <td>0</td>\n",
       "    </tr>\n",
       "    <tr>\n",
       "      <th>1</th>\n",
       "      <td>0</td>\n",
       "      <td>0</td>\n",
       "      <td>0</td>\n",
       "      <td>0</td>\n",
       "      <td>1</td>\n",
       "      <td>1</td>\n",
       "      <td>0</td>\n",
       "      <td>0</td>\n",
       "      <td>0</td>\n",
       "      <td>0</td>\n",
       "      <td>0</td>\n",
       "      <td>1</td>\n",
       "    </tr>\n",
       "    <tr>\n",
       "      <th>2</th>\n",
       "      <td>1</td>\n",
       "      <td>0</td>\n",
       "      <td>0</td>\n",
       "      <td>1</td>\n",
       "      <td>0</td>\n",
       "      <td>1</td>\n",
       "      <td>0</td>\n",
       "      <td>0</td>\n",
       "      <td>0</td>\n",
       "      <td>0</td>\n",
       "      <td>0</td>\n",
       "      <td>1</td>\n",
       "    </tr>\n",
       "    <tr>\n",
       "      <th>3</th>\n",
       "      <td>1</td>\n",
       "      <td>0</td>\n",
       "      <td>0</td>\n",
       "      <td>1</td>\n",
       "      <td>0</td>\n",
       "      <td>0</td>\n",
       "      <td>0</td>\n",
       "      <td>0</td>\n",
       "      <td>0</td>\n",
       "      <td>0</td>\n",
       "      <td>0</td>\n",
       "      <td>0</td>\n",
       "    </tr>\n",
       "    <tr>\n",
       "      <th>4</th>\n",
       "      <td>1</td>\n",
       "      <td>0</td>\n",
       "      <td>0</td>\n",
       "      <td>1</td>\n",
       "      <td>0</td>\n",
       "      <td>1</td>\n",
       "      <td>0</td>\n",
       "      <td>0</td>\n",
       "      <td>0</td>\n",
       "      <td>0</td>\n",
       "      <td>0</td>\n",
       "      <td>1</td>\n",
       "    </tr>\n",
       "  </tbody>\n",
       "</table>\n",
       "</div>"
      ],
      "text/plain": [
       "   Delinquent  Loan_term  Gender  Age  Fico_score  Loan_purpose_House  \\\n",
       "0           1          0       0    1           0                   1   \n",
       "1           0          0       0    0           1                   1   \n",
       "2           1          0       0    1           0                   1   \n",
       "3           1          0       0    1           0                   0   \n",
       "4           1          0       0    1           0                   1   \n",
       "\n",
       "   Loan_purpose_Medical  Loan_purpose_Other  Loan_purpose_Personal  \\\n",
       "0                     0                   0                      0   \n",
       "1                     0                   0                      0   \n",
       "2                     0                   0                      0   \n",
       "3                     0                   0                      0   \n",
       "4                     0                   0                      0   \n",
       "\n",
       "   Loan_purpose_Wedding  Home_ownership_Own  Home_ownership_Rent  \n",
       "0                     0                   0                    0  \n",
       "1                     0                   0                    1  \n",
       "2                     0                   0                    1  \n",
       "3                     0                   0                    0  \n",
       "4                     0                   0                    1  "
      ]
     },
     "execution_count": 25,
     "metadata": {},
     "output_type": "execute_result"
    }
   ],
   "source": [
    "df.head()"
   ]
  },
  {
   "cell_type": "code",
   "execution_count": 26,
   "id": "5d47f656",
   "metadata": {},
   "outputs": [
    {
     "data": {
      "text/html": [
       "<div>\n",
       "<style scoped>\n",
       "    .dataframe tbody tr th:only-of-type {\n",
       "        vertical-align: middle;\n",
       "    }\n",
       "\n",
       "    .dataframe tbody tr th {\n",
       "        vertical-align: top;\n",
       "    }\n",
       "\n",
       "    .dataframe thead th {\n",
       "        text-align: right;\n",
       "    }\n",
       "</style>\n",
       "<table border=\"1\" class=\"dataframe\">\n",
       "  <thead>\n",
       "    <tr style=\"text-align: right;\">\n",
       "      <th></th>\n",
       "      <th>Data Type</th>\n",
       "    </tr>\n",
       "  </thead>\n",
       "  <tbody>\n",
       "    <tr>\n",
       "      <th>Delinquent</th>\n",
       "      <td>int64</td>\n",
       "    </tr>\n",
       "    <tr>\n",
       "      <th>Loan_term</th>\n",
       "      <td>int64</td>\n",
       "    </tr>\n",
       "    <tr>\n",
       "      <th>Gender</th>\n",
       "      <td>int64</td>\n",
       "    </tr>\n",
       "    <tr>\n",
       "      <th>Age</th>\n",
       "      <td>int64</td>\n",
       "    </tr>\n",
       "    <tr>\n",
       "      <th>Fico_score</th>\n",
       "      <td>int64</td>\n",
       "    </tr>\n",
       "    <tr>\n",
       "      <th>Loan_purpose_House</th>\n",
       "      <td>int64</td>\n",
       "    </tr>\n",
       "    <tr>\n",
       "      <th>Loan_purpose_Medical</th>\n",
       "      <td>int64</td>\n",
       "    </tr>\n",
       "    <tr>\n",
       "      <th>Loan_purpose_Other</th>\n",
       "      <td>int64</td>\n",
       "    </tr>\n",
       "    <tr>\n",
       "      <th>Loan_purpose_Personal</th>\n",
       "      <td>int64</td>\n",
       "    </tr>\n",
       "    <tr>\n",
       "      <th>Loan_purpose_Wedding</th>\n",
       "      <td>int64</td>\n",
       "    </tr>\n",
       "    <tr>\n",
       "      <th>Home_ownership_Own</th>\n",
       "      <td>int64</td>\n",
       "    </tr>\n",
       "    <tr>\n",
       "      <th>Home_ownership_Rent</th>\n",
       "      <td>int64</td>\n",
       "    </tr>\n",
       "  </tbody>\n",
       "</table>\n",
       "</div>"
      ],
      "text/plain": [
       "                      Data Type\n",
       "Delinquent                int64\n",
       "Loan_term                 int64\n",
       "Gender                    int64\n",
       "Age                       int64\n",
       "Fico_score                int64\n",
       "Loan_purpose_House        int64\n",
       "Loan_purpose_Medical      int64\n",
       "Loan_purpose_Other        int64\n",
       "Loan_purpose_Personal     int64\n",
       "Loan_purpose_Wedding      int64\n",
       "Home_ownership_Own        int64\n",
       "Home_ownership_Rent       int64"
      ]
     },
     "execution_count": 26,
     "metadata": {},
     "output_type": "execute_result"
    }
   ],
   "source": [
    "# Confirming the datatypes of all the features after label encoding and one hot encoding\n",
    "\n",
    "pd.DataFrame(df.dtypes, columns= ['Data Type'], index = df.columns)"
   ]
  },
  {
   "cell_type": "markdown",
   "id": "b3537db7",
   "metadata": {},
   "source": [
    "## Handling Outliers"
   ]
  },
  {
   "cell_type": "markdown",
   "id": "e30fe7dd",
   "metadata": {},
   "source": [
    "Here since all the values are categorical, there is no need of handling outliers"
   ]
  },
  {
   "cell_type": "markdown",
   "id": "54eaca32",
   "metadata": {},
   "source": [
    "## Feature Scaling"
   ]
  },
  {
   "cell_type": "markdown",
   "id": "b848fe16",
   "metadata": {},
   "source": [
    "Feature scaling is not required as all the values are in the range of 0 and 1"
   ]
  },
  {
   "cell_type": "markdown",
   "id": "dd70b38b",
   "metadata": {},
   "source": [
    "# Splitting the data into independent and dependent variables"
   ]
  },
  {
   "cell_type": "code",
   "execution_count": 27,
   "id": "5a09c02b",
   "metadata": {},
   "outputs": [],
   "source": [
    "x = df.drop('Delinquent', axis=1)\n",
    "y = df['Delinquent']"
   ]
  },
  {
   "cell_type": "code",
   "execution_count": 28,
   "id": "110f531c",
   "metadata": {},
   "outputs": [
    {
     "data": {
      "text/plain": [
       "Delinquent\n",
       "1    7721\n",
       "0    3827\n",
       "Name: count, dtype: int64"
      ]
     },
     "execution_count": 28,
     "metadata": {},
     "output_type": "execute_result"
    }
   ],
   "source": [
    "y.value_counts()"
   ]
  },
  {
   "cell_type": "markdown",
   "id": "c9a89a6f",
   "metadata": {},
   "source": [
    "# Imbalance Treatment of the Output variable"
   ]
  },
  {
   "cell_type": "code",
   "execution_count": 29,
   "id": "1514a6fa",
   "metadata": {},
   "outputs": [],
   "source": [
    "import imblearn"
   ]
  },
  {
   "cell_type": "code",
   "execution_count": 30,
   "id": "489b0cc0",
   "metadata": {},
   "outputs": [],
   "source": [
    "from imblearn.over_sampling import RandomOverSampler\n",
    "ros = RandomOverSampler()\n",
    "x_bal, y_bal = ros.fit_resample(x,y)"
   ]
  },
  {
   "cell_type": "code",
   "execution_count": 31,
   "id": "15ab692f",
   "metadata": {},
   "outputs": [
    {
     "data": {
      "text/plain": [
       "Delinquent\n",
       "1    7721\n",
       "0    7721\n",
       "Name: count, dtype: int64"
      ]
     },
     "execution_count": 31,
     "metadata": {},
     "output_type": "execute_result"
    }
   ],
   "source": [
    "y_bal.value_counts()"
   ]
  },
  {
   "cell_type": "code",
   "execution_count": 32,
   "id": "08898c45",
   "metadata": {},
   "outputs": [],
   "source": [
    "# Splitting the data into train and test\n",
    "\n",
    "from sklearn.model_selection import train_test_split, cross_val_score\n",
    "\n",
    "x_train, x_test, y_train, y_test = train_test_split(x_bal, y_bal, test_size=0.25, random_state=42)"
   ]
  },
  {
   "cell_type": "code",
   "execution_count": 33,
   "id": "9df66fda",
   "metadata": {},
   "outputs": [
    {
     "data": {
      "text/html": [
       "<div>\n",
       "<style scoped>\n",
       "    .dataframe tbody tr th:only-of-type {\n",
       "        vertical-align: middle;\n",
       "    }\n",
       "\n",
       "    .dataframe tbody tr th {\n",
       "        vertical-align: top;\n",
       "    }\n",
       "\n",
       "    .dataframe thead th {\n",
       "        text-align: right;\n",
       "    }\n",
       "</style>\n",
       "<table border=\"1\" class=\"dataframe\">\n",
       "  <thead>\n",
       "    <tr style=\"text-align: right;\">\n",
       "      <th></th>\n",
       "      <th>Loan_term</th>\n",
       "      <th>Gender</th>\n",
       "      <th>Age</th>\n",
       "      <th>Fico_score</th>\n",
       "      <th>Loan_purpose_House</th>\n",
       "      <th>Loan_purpose_Medical</th>\n",
       "      <th>Loan_purpose_Other</th>\n",
       "      <th>Loan_purpose_Personal</th>\n",
       "      <th>Loan_purpose_Wedding</th>\n",
       "      <th>Home_ownership_Own</th>\n",
       "      <th>Home_ownership_Rent</th>\n",
       "    </tr>\n",
       "  </thead>\n",
       "  <tbody>\n",
       "    <tr>\n",
       "      <th>9647</th>\n",
       "      <td>0</td>\n",
       "      <td>0</td>\n",
       "      <td>1</td>\n",
       "      <td>1</td>\n",
       "      <td>1</td>\n",
       "      <td>0</td>\n",
       "      <td>0</td>\n",
       "      <td>0</td>\n",
       "      <td>0</td>\n",
       "      <td>0</td>\n",
       "      <td>1</td>\n",
       "    </tr>\n",
       "    <tr>\n",
       "      <th>14355</th>\n",
       "      <td>0</td>\n",
       "      <td>0</td>\n",
       "      <td>0</td>\n",
       "      <td>1</td>\n",
       "      <td>0</td>\n",
       "      <td>0</td>\n",
       "      <td>1</td>\n",
       "      <td>0</td>\n",
       "      <td>0</td>\n",
       "      <td>0</td>\n",
       "      <td>0</td>\n",
       "    </tr>\n",
       "    <tr>\n",
       "      <th>819</th>\n",
       "      <td>0</td>\n",
       "      <td>1</td>\n",
       "      <td>1</td>\n",
       "      <td>1</td>\n",
       "      <td>0</td>\n",
       "      <td>1</td>\n",
       "      <td>0</td>\n",
       "      <td>0</td>\n",
       "      <td>0</td>\n",
       "      <td>0</td>\n",
       "      <td>1</td>\n",
       "    </tr>\n",
       "    <tr>\n",
       "      <th>14558</th>\n",
       "      <td>0</td>\n",
       "      <td>0</td>\n",
       "      <td>1</td>\n",
       "      <td>1</td>\n",
       "      <td>0</td>\n",
       "      <td>0</td>\n",
       "      <td>0</td>\n",
       "      <td>1</td>\n",
       "      <td>0</td>\n",
       "      <td>0</td>\n",
       "      <td>0</td>\n",
       "    </tr>\n",
       "    <tr>\n",
       "      <th>13802</th>\n",
       "      <td>0</td>\n",
       "      <td>0</td>\n",
       "      <td>0</td>\n",
       "      <td>1</td>\n",
       "      <td>1</td>\n",
       "      <td>0</td>\n",
       "      <td>0</td>\n",
       "      <td>0</td>\n",
       "      <td>0</td>\n",
       "      <td>0</td>\n",
       "      <td>0</td>\n",
       "    </tr>\n",
       "  </tbody>\n",
       "</table>\n",
       "</div>"
      ],
      "text/plain": [
       "       Loan_term  Gender  Age  Fico_score  Loan_purpose_House  \\\n",
       "9647           0       0    1           1                   1   \n",
       "14355          0       0    0           1                   0   \n",
       "819            0       1    1           1                   0   \n",
       "14558          0       0    1           1                   0   \n",
       "13802          0       0    0           1                   1   \n",
       "\n",
       "       Loan_purpose_Medical  Loan_purpose_Other  Loan_purpose_Personal  \\\n",
       "9647                      0                   0                      0   \n",
       "14355                     0                   1                      0   \n",
       "819                       1                   0                      0   \n",
       "14558                     0                   0                      1   \n",
       "13802                     0                   0                      0   \n",
       "\n",
       "       Loan_purpose_Wedding  Home_ownership_Own  Home_ownership_Rent  \n",
       "9647                      0                   0                    1  \n",
       "14355                     0                   0                    0  \n",
       "819                       0                   0                    1  \n",
       "14558                     0                   0                    0  \n",
       "13802                     0                   0                    0  "
      ]
     },
     "execution_count": 33,
     "metadata": {},
     "output_type": "execute_result"
    }
   ],
   "source": [
    "x_train.head()"
   ]
  },
  {
   "cell_type": "code",
   "execution_count": 34,
   "id": "49663173",
   "metadata": {},
   "outputs": [],
   "source": [
    "# importing necessary models from sklearn for model building:\n",
    "from sklearn.linear_model import LogisticRegression\n",
    "from sklearn.tree import DecisionTreeClassifier\n",
    "from sklearn.ensemble import RandomForestClassifier\n",
    "from sklearn.ensemble import BaggingClassifier\n",
    "from xgboost import XGBClassifier\n",
    "\n",
    "# Importing performance metrics\n",
    "from sklearn.metrics import classification_report, confusion_matrix, recall_score, accuracy_score"
   ]
  },
  {
   "cell_type": "code",
   "execution_count": 35,
   "id": "af408c24",
   "metadata": {},
   "outputs": [],
   "source": [
    "# Building Binary classification Logistic regression model.\n",
    "\n",
    "logit = LogisticRegression()\n",
    "logit.fit(x_train, y_train)\n",
    "pred_train_logit = logit.predict(x_train)\n",
    "pred_test_logit = logit.predict(x_test)"
   ]
  },
  {
   "cell_type": "code",
   "execution_count": 36,
   "id": "e6d832a2",
   "metadata": {},
   "outputs": [
    {
     "name": "stdout",
     "output_type": "stream",
     "text": [
      "The classification report and confusion matrix for the Logistic Regression model is: \n",
      "\n",
      "\n",
      "\n",
      "\n",
      "The classification report and confusion matrix for Train data:\n",
      "\n",
      "\n",
      "              precision    recall  f1-score   support\n",
      "\n",
      "           0       0.76      0.82      0.79      5805\n",
      "           1       0.81      0.74      0.77      5776\n",
      "\n",
      "    accuracy                           0.78     11581\n",
      "   macro avg       0.78      0.78      0.78     11581\n",
      "weighted avg       0.78      0.78      0.78     11581\n",
      "\n",
      "----------------------------------------------------------------------------------------------------\n",
      "[[4781 1024]\n",
      " [1521 4255]]\n",
      "----------------------------------------------------------------------------------------------------\n",
      "The accuracy score for train data: 0.7802435022882307\n",
      "----------------------------------------------------------------------------------------------------\n",
      "The recall score for train data: 0.7366689750692521\n",
      "\n",
      "\n",
      "The classification report and confusion matrix for Test data:\n",
      "\n",
      "\n",
      "              precision    recall  f1-score   support\n",
      "\n",
      "           0       0.73      0.84      0.78      1916\n",
      "           1       0.81      0.70      0.75      1945\n",
      "\n",
      "    accuracy                           0.77      3861\n",
      "   macro avg       0.77      0.77      0.77      3861\n",
      "weighted avg       0.77      0.77      0.77      3861\n",
      "\n",
      "----------------------------------------------------------------------------------------------------\n",
      "[[1604  312]\n",
      " [ 582 1363]]\n",
      "----------------------------------------------------------------------------------------------------\n",
      "The accuracy score for test data: 0.7684537684537684\n",
      "----------------------------------------------------------------------------------------------------\n",
      "The recall score for test data: 0.7007712082262211\n"
     ]
    }
   ],
   "source": [
    "# Model Performance:\n",
    "\n",
    "print('The classification report and confusion matrix for the Logistic Regression model is: ')\n",
    "print('\\n')\n",
    "print('\\n')\n",
    "print('The classification report and confusion matrix for Train data:')\n",
    "print('\\n')\n",
    "print(classification_report(y_train, pred_train_logit))\n",
    "print('--'*50)\n",
    "print(confusion_matrix(y_train, pred_train_logit))\n",
    "print('--'*50)\n",
    "print('The accuracy score for train data:', accuracy_score(y_train, pred_train_logit))\n",
    "print('--'*50)\n",
    "print('The recall score for train data:', recall_score(y_train, pred_train_logit))\n",
    "print('\\n')\n",
    "\n",
    "print('The classification report and confusion matrix for Test data:')\n",
    "print('\\n')\n",
    "print(classification_report(y_test, pred_test_logit))\n",
    "print('--'*50)\n",
    "print(confusion_matrix(y_test, pred_test_logit))\n",
    "print('--'*50)\n",
    "print('The accuracy score for test data:', accuracy_score(y_test, pred_test_logit))\n",
    "print('--'*50)\n",
    "print('The recall score for test data:', recall_score(y_test, pred_test_logit))"
   ]
  },
  {
   "cell_type": "code",
   "execution_count": 37,
   "id": "0fe081ee",
   "metadata": {},
   "outputs": [
    {
     "name": "stdout",
     "output_type": "stream",
     "text": [
      "Mean train corss validation score: 0.7796374696190063\n",
      "Mean test corss validation score: 0.7759683228233657\n"
     ]
    }
   ],
   "source": [
    "accuracy_scrore_train = cross_val_score(estimator=logit, X=x_train, y=y_train, cv=10, scoring='accuracy')\n",
    "accuracy_scrore_test = cross_val_score(estimator=logit, X=x_test, y=y_test, cv=10, scoring='accuracy')\n",
    "print('Mean train corss validation score:', np.mean(accuracy_scrore_train))\n",
    "print('Mean test corss validation score:', np.mean(accuracy_scrore_test))"
   ]
  },
  {
   "cell_type": "code",
   "execution_count": 38,
   "id": "e46db7ac",
   "metadata": {},
   "outputs": [],
   "source": [
    "# Building Decision Tree classification model.\n",
    "\n",
    "dtree = DecisionTreeClassifier()\n",
    "dtree.fit(x_train, y_train)\n",
    "pred_train_dtree = dtree.predict(x_train)\n",
    "pred_test_dtree = dtree.predict(x_test)"
   ]
  },
  {
   "cell_type": "code",
   "execution_count": 39,
   "id": "a9599017",
   "metadata": {},
   "outputs": [
    {
     "name": "stdout",
     "output_type": "stream",
     "text": [
      "The classification report and confusion matrix for the Decision Tree classification model is: \n",
      "\n",
      "\n",
      "\n",
      "\n",
      "The classification report and confusion matrix for Train data:\n",
      "\n",
      "\n",
      "              precision    recall  f1-score   support\n",
      "\n",
      "           0       0.88      0.75      0.81      5805\n",
      "           1       0.78      0.90      0.84      5776\n",
      "\n",
      "    accuracy                           0.83     11581\n",
      "   macro avg       0.83      0.83      0.82     11581\n",
      "weighted avg       0.83      0.83      0.82     11581\n",
      "\n",
      "----------------------------------------------------------------------------------------------------\n",
      "[[4353 1452]\n",
      " [ 570 5206]]\n",
      "----------------------------------------------------------------------------------------------------\n",
      "The accuracy score for train data: 0.8254036784388222\n",
      "----------------------------------------------------------------------------------------------------\n",
      "The recall score for train data: 0.9013157894736842\n",
      "\n",
      "\n",
      "The classification report and confusion matrix for Test data:\n",
      "\n",
      "\n",
      "              precision    recall  f1-score   support\n",
      "\n",
      "           0       0.87      0.75      0.81      1916\n",
      "           1       0.78      0.89      0.83      1945\n",
      "\n",
      "    accuracy                           0.82      3861\n",
      "   macro avg       0.83      0.82      0.82      3861\n",
      "weighted avg       0.83      0.82      0.82      3861\n",
      "\n",
      "----------------------------------------------------------------------------------------------------\n",
      "[[1442  474]\n",
      " [ 219 1726]]\n",
      "----------------------------------------------------------------------------------------------------\n",
      "The accuracy score for test data: 0.8205128205128205\n",
      "----------------------------------------------------------------------------------------------------\n",
      "The recall score for test data: 0.8874035989717224\n"
     ]
    }
   ],
   "source": [
    "# Model Performance:\n",
    "\n",
    "print('The classification report and confusion matrix for the Decision Tree classification model is: ')\n",
    "print('\\n')\n",
    "print('\\n')\n",
    "print('The classification report and confusion matrix for Train data:')\n",
    "print('\\n')\n",
    "print(classification_report(y_train, pred_train_dtree))\n",
    "print('--'*50)\n",
    "print(confusion_matrix(y_train, pred_train_dtree))\n",
    "print('--'*50)\n",
    "print('The accuracy score for train data:', accuracy_score(y_train, pred_train_dtree))\n",
    "print('--'*50)\n",
    "print('The recall score for train data:', recall_score(y_train, pred_train_dtree))\n",
    "print('\\n')\n",
    "\n",
    "print('The classification report and confusion matrix for Test data:')\n",
    "print('\\n')\n",
    "print(classification_report(y_test, pred_test_dtree))\n",
    "print('--'*50)\n",
    "print(confusion_matrix(y_test, pred_test_dtree))\n",
    "print('--'*50)\n",
    "print('The accuracy score for test data:', accuracy_score(y_test, pred_test_dtree))\n",
    "print('--'*50)\n",
    "print('The recall score for test data:', recall_score(y_test, pred_test_dtree))"
   ]
  },
  {
   "cell_type": "markdown",
   "id": "ac4f2df3",
   "metadata": {},
   "source": [
    "It is observed that decision tree model is performing better than logistic regression model."
   ]
  },
  {
   "cell_type": "code",
   "execution_count": 40,
   "id": "bc98fdff",
   "metadata": {},
   "outputs": [
    {
     "name": "stdout",
     "output_type": "stream",
     "text": [
      "Mean train corss validation score: 0.8232431924966583\n",
      "Mean test corss validation score: 0.8192151664859221\n"
     ]
    }
   ],
   "source": [
    "accuracy_scrore_train = cross_val_score(estimator=dtree, X=x_train, y=y_train, cv=10, scoring='accuracy')\n",
    "accuracy_scrore_test = cross_val_score(estimator=dtree, X=x_test, y=y_test, cv=10, scoring='accuracy')\n",
    "print('Mean train corss validation score:', np.mean(accuracy_scrore_train))\n",
    "print('Mean test corss validation score:', np.mean(accuracy_scrore_test))"
   ]
  },
  {
   "cell_type": "code",
   "execution_count": 41,
   "id": "55e83c43",
   "metadata": {},
   "outputs": [],
   "source": [
    "# Building Random Forest classifier model.\n",
    "\n",
    "rfc = RandomForestClassifier(n_estimators=180, criterion='entropy', n_jobs=-1, )\n",
    "rfc.fit(x_train, y_train)\n",
    "pred_train_rfc = rfc.predict(x_train)\n",
    "pred_test_rfc = rfc.predict(x_test)"
   ]
  },
  {
   "cell_type": "code",
   "execution_count": 42,
   "id": "3a51814d",
   "metadata": {},
   "outputs": [
    {
     "name": "stdout",
     "output_type": "stream",
     "text": [
      "The classification report and confusion matrix for the Random Forest classifier model is: \n",
      "\n",
      "\n",
      "\n",
      "\n",
      "The classification report and confusion matrix for Train data:\n",
      "\n",
      "\n",
      "              precision    recall  f1-score   support\n",
      "\n",
      "           0       0.89      0.75      0.81      5805\n",
      "           1       0.78      0.90      0.84      5776\n",
      "\n",
      "    accuracy                           0.83     11581\n",
      "   macro avg       0.83      0.83      0.82     11581\n",
      "weighted avg       0.83      0.83      0.82     11581\n",
      "\n",
      "----------------------------------------------------------------------------------------------------\n",
      "[[4342 1463]\n",
      " [ 559 5217]]\n",
      "----------------------------------------------------------------------------------------------------\n",
      "The accuracy score for train data: 0.8254036784388222\n",
      "----------------------------------------------------------------------------------------------------\n",
      "The recall score for train data: 0.9032202216066482\n",
      "\n",
      "\n",
      "The classification report and confusion matrix for Test data:\n",
      "\n",
      "\n",
      "              precision    recall  f1-score   support\n",
      "\n",
      "           0       0.87      0.75      0.81      1916\n",
      "           1       0.78      0.89      0.83      1945\n",
      "\n",
      "    accuracy                           0.82      3861\n",
      "   macro avg       0.83      0.82      0.82      3861\n",
      "weighted avg       0.83      0.82      0.82      3861\n",
      "\n",
      "----------------------------------------------------------------------------------------------------\n",
      "[[1441  475]\n",
      " [ 218 1727]]\n",
      "----------------------------------------------------------------------------------------------------\n",
      "The accuracy score for test data: 0.8205128205128205\n",
      "----------------------------------------------------------------------------------------------------\n",
      "The recall score for test data: 0.8879177377892031\n"
     ]
    }
   ],
   "source": [
    "# Model Performance:\n",
    "\n",
    "print('The classification report and confusion matrix for the Random Forest classifier model is: ')\n",
    "print('\\n')\n",
    "print('\\n')\n",
    "print('The classification report and confusion matrix for Train data:')\n",
    "print('\\n')\n",
    "print(classification_report(y_train, pred_train_rfc))\n",
    "print('--'*50)\n",
    "print(confusion_matrix(y_train, pred_train_rfc))\n",
    "print('--'*50)\n",
    "print('The accuracy score for train data:', accuracy_score(y_train, pred_train_rfc))\n",
    "print('--'*50)\n",
    "print('The recall score for train data:', recall_score(y_train, pred_train_rfc))\n",
    "print('\\n')\n",
    "\n",
    "print('The classification report and confusion matrix for Test data:')\n",
    "print('\\n')\n",
    "print(classification_report(y_test, pred_test_rfc))\n",
    "print('--'*50)\n",
    "print(confusion_matrix(y_test, pred_test_rfc))\n",
    "print('--'*50)\n",
    "print('The accuracy score for test data:', accuracy_score(y_test, pred_test_rfc))\n",
    "print('--'*50)\n",
    "print('The recall score for test data:', recall_score(y_test, pred_test_rfc))"
   ]
  },
  {
   "cell_type": "code",
   "execution_count": 43,
   "id": "51dba9f9",
   "metadata": {},
   "outputs": [
    {
     "name": "stdout",
     "output_type": "stream",
     "text": [
      "Mean train corss validation score: 0.8233293992647465\n",
      "Mean test corss validation score: 0.8184386338380796\n"
     ]
    }
   ],
   "source": [
    "accuracy_scrore_train = cross_val_score(estimator=rfc, X=x_train, y=y_train, cv=10, scoring='accuracy')\n",
    "accuracy_scrore_test = cross_val_score(estimator=rfc, X=x_test, y=y_test, cv=10, scoring='accuracy')\n",
    "print('Mean train corss validation score:', np.mean(accuracy_scrore_train))\n",
    "print('Mean test corss validation score:', np.mean(accuracy_scrore_test))"
   ]
  },
  {
   "cell_type": "code",
   "execution_count": 44,
   "id": "422a4aa0",
   "metadata": {},
   "outputs": [],
   "source": [
    "# Building Bagging classifier model.\n",
    "\n",
    "bgc = BaggingClassifier()\n",
    "bgc.fit(x_train, y_train)\n",
    "pred_train_bgc = bgc.predict(x_train)\n",
    "pred_test_bgc = bgc.predict(x_test)"
   ]
  },
  {
   "cell_type": "code",
   "execution_count": 45,
   "id": "90f4e7ac",
   "metadata": {},
   "outputs": [
    {
     "name": "stdout",
     "output_type": "stream",
     "text": [
      "The classification report and confusion matrix for the Bagging classifier model is: \n",
      "\n",
      "\n",
      "\n",
      "\n",
      "The classification report and confusion matrix for Train data:\n",
      "\n",
      "\n",
      "              precision    recall  f1-score   support\n",
      "\n",
      "           0       0.88      0.75      0.81      5805\n",
      "           1       0.78      0.90      0.84      5776\n",
      "\n",
      "    accuracy                           0.83     11581\n",
      "   macro avg       0.83      0.83      0.82     11581\n",
      "weighted avg       0.83      0.83      0.82     11581\n",
      "\n",
      "----------------------------------------------------------------------------------------------------\n",
      "[[4352 1453]\n",
      " [ 570 5206]]\n",
      "----------------------------------------------------------------------------------------------------\n",
      "The accuracy score for train data: 0.8253173301096624\n",
      "----------------------------------------------------------------------------------------------------\n",
      "The recall score for train data: 0.9013157894736842\n",
      "\n",
      "\n",
      "The classification report and confusion matrix for Test data:\n",
      "\n",
      "\n",
      "              precision    recall  f1-score   support\n",
      "\n",
      "           0       0.87      0.75      0.81      1916\n",
      "           1       0.78      0.89      0.83      1945\n",
      "\n",
      "    accuracy                           0.82      3861\n",
      "   macro avg       0.83      0.82      0.82      3861\n",
      "weighted avg       0.83      0.82      0.82      3861\n",
      "\n",
      "----------------------------------------------------------------------------------------------------\n",
      "[[1440  476]\n",
      " [ 219 1726]]\n",
      "----------------------------------------------------------------------------------------------------\n",
      "The accuracy score for test data: 0.81999481999482\n",
      "----------------------------------------------------------------------------------------------------\n",
      "The recall score for test data: 0.8874035989717224\n"
     ]
    }
   ],
   "source": [
    "# Model Performance:\n",
    "\n",
    "print('The classification report and confusion matrix for the Bagging classifier model is: ')\n",
    "print('\\n')\n",
    "print('\\n')\n",
    "print('The classification report and confusion matrix for Train data:')\n",
    "print('\\n')\n",
    "print(classification_report(y_train, pred_train_bgc))\n",
    "print('--'*50)\n",
    "print(confusion_matrix(y_train, pred_train_bgc))\n",
    "print('--'*50)\n",
    "print('The accuracy score for train data:', accuracy_score(y_train, pred_train_bgc))\n",
    "print('--'*50)\n",
    "print('The recall score for train data:', recall_score(y_train, pred_train_bgc))\n",
    "print('\\n')\n",
    "\n",
    "print('The classification report and confusion matrix for Test data:')\n",
    "print('\\n')\n",
    "print(classification_report(y_test, pred_test_bgc))\n",
    "print('--'*50)\n",
    "print(confusion_matrix(y_test, pred_test_bgc))\n",
    "print('--'*50)\n",
    "print('The accuracy score for test data:', accuracy_score(y_test, pred_test_bgc))\n",
    "print('--'*50)\n",
    "print('The recall score for test data:', recall_score(y_test, pred_test_bgc))"
   ]
  },
  {
   "cell_type": "code",
   "execution_count": 46,
   "id": "45d4edcf",
   "metadata": {},
   "outputs": [
    {
     "name": "stdout",
     "output_type": "stream",
     "text": [
      "Mean train corss validation score: 0.8230703319072334\n",
      "Mean test corss validation score: 0.8192151664859221\n"
     ]
    }
   ],
   "source": [
    "accuracy_scrore_train = cross_val_score(estimator=bgc, X=x_train, y=y_train, cv=10, scoring='accuracy')\n",
    "accuracy_scrore_test = cross_val_score(estimator=bgc, X=x_test, y=y_test, cv=10, scoring='accuracy')\n",
    "print('Mean train corss validation score:', np.mean(accuracy_scrore_train))\n",
    "print('Mean test corss validation score:', np.mean(accuracy_scrore_test))"
   ]
  },
  {
   "cell_type": "code",
   "execution_count": 47,
   "id": "be882b51",
   "metadata": {},
   "outputs": [],
   "source": [
    "# Building Xtreme Gradient Boosting classifier model.\n",
    "\n",
    "xgbc = XGBClassifier()\n",
    "xgbc.fit(x_train, y_train)\n",
    "pred_train_xgbc = xgbc.predict(x_train)\n",
    "pred_test_xgbc = xgbc.predict(x_test)"
   ]
  },
  {
   "cell_type": "code",
   "execution_count": 48,
   "id": "9959aa83",
   "metadata": {},
   "outputs": [
    {
     "name": "stdout",
     "output_type": "stream",
     "text": [
      "The classification report and confusion matrix for the Xtreme Gradient Boosting classifier model is: \n",
      "\n",
      "\n",
      "\n",
      "\n",
      "The classification report and confusion matrix for Train data:\n",
      "\n",
      "\n",
      "              precision    recall  f1-score   support\n",
      "\n",
      "           0       0.88      0.75      0.81      5805\n",
      "           1       0.78      0.90      0.84      5776\n",
      "\n",
      "    accuracy                           0.83     11581\n",
      "   macro avg       0.83      0.83      0.82     11581\n",
      "weighted avg       0.83      0.83      0.82     11581\n",
      "\n",
      "----------------------------------------------------------------------------------------------------\n",
      "[[4349 1456]\n",
      " [ 567 5209]]\n",
      "----------------------------------------------------------------------------------------------------\n",
      "The accuracy score for train data: 0.8253173301096624\n",
      "----------------------------------------------------------------------------------------------------\n",
      "The recall score for train data: 0.9018351800554016\n",
      "\n",
      "\n",
      "The classification report and confusion matrix for Test data:\n",
      "\n",
      "\n",
      "              precision    recall  f1-score   support\n",
      "\n",
      "           0       0.87      0.75      0.81      1916\n",
      "           1       0.78      0.89      0.83      1945\n",
      "\n",
      "    accuracy                           0.82      3861\n",
      "   macro avg       0.83      0.82      0.82      3861\n",
      "weighted avg       0.83      0.82      0.82      3861\n",
      "\n",
      "----------------------------------------------------------------------------------------------------\n",
      "[[1437  479]\n",
      " [ 217 1728]]\n",
      "----------------------------------------------------------------------------------------------------\n",
      "The accuracy score for test data: 0.8197358197358198\n",
      "----------------------------------------------------------------------------------------------------\n",
      "The recall score for test data: 0.8884318766066838\n"
     ]
    }
   ],
   "source": [
    "# Model Performance:\n",
    "\n",
    "print('The classification report and confusion matrix for the Xtreme Gradient Boosting classifier model is: ')\n",
    "print('\\n')\n",
    "print('\\n')\n",
    "print('The classification report and confusion matrix for Train data:')\n",
    "print('\\n')\n",
    "print(classification_report(y_train, pred_train_xgbc))\n",
    "print('--'*50)\n",
    "print(confusion_matrix(y_train, pred_train_xgbc))\n",
    "print('--'*50)\n",
    "print('The accuracy score for train data:', accuracy_score(y_train, pred_train_xgbc))\n",
    "print('--'*50)\n",
    "print('The recall score for train data:', recall_score(y_train, pred_train_xgbc))\n",
    "print('\\n')\n",
    "\n",
    "print('The classification report and confusion matrix for Test data:')\n",
    "print('\\n')\n",
    "print(classification_report(y_test, pred_test_xgbc))\n",
    "print('--'*50)\n",
    "print(confusion_matrix(y_test, pred_test_xgbc))\n",
    "print('--'*50)\n",
    "print('The accuracy score for test data:', accuracy_score(y_test, pred_test_xgbc))\n",
    "print('--'*50)\n",
    "print('The recall score for test data:', recall_score(y_test, pred_test_xgbc))"
   ]
  },
  {
   "cell_type": "code",
   "execution_count": 49,
   "id": "7d8be5dc",
   "metadata": {},
   "outputs": [
    {
     "name": "stdout",
     "output_type": "stream",
     "text": [
      "Mean train corss validation score: 0.8232429689700341\n",
      "Mean test corss validation score: 0.8197339706256443\n"
     ]
    }
   ],
   "source": [
    "accuracy_scrore_train = cross_val_score(estimator=xgbc, X=x_train, y=y_train, cv=10, scoring='accuracy')\n",
    "accuracy_scrore_test = cross_val_score(estimator=xgbc, X=x_test, y=y_test, cv=10, scoring='accuracy')\n",
    "print('Mean train corss validation score:', np.mean(accuracy_scrore_train))\n",
    "print('Mean test corss validation score:', np.mean(accuracy_scrore_test))"
   ]
  },
  {
   "cell_type": "markdown",
   "id": "3be37934",
   "metadata": {},
   "source": [
    "Among all the models Random Forest classifier is giving the better results."
   ]
  },
  {
   "cell_type": "code",
   "execution_count": 50,
   "id": "633c6690",
   "metadata": {},
   "outputs": [],
   "source": [
    "# Checking performance of the model using ROC-AUC Curve"
   ]
  },
  {
   "cell_type": "code",
   "execution_count": 51,
   "id": "56922116",
   "metadata": {},
   "outputs": [],
   "source": [
    "from sklearn.metrics import roc_auc_score\n",
    "from sklearn.metrics import roc_curve"
   ]
  },
  {
   "cell_type": "code",
   "execution_count": 52,
   "id": "3ac67c03",
   "metadata": {},
   "outputs": [],
   "source": [
    "rfc_roc_under_auc = roc_auc_score(y_test,pred_test_rfc)"
   ]
  },
  {
   "cell_type": "code",
   "execution_count": 53,
   "id": "9cf5d8cb",
   "metadata": {},
   "outputs": [
    {
     "data": {
      "text/plain": [
       "0.8200027102307185"
      ]
     },
     "execution_count": 53,
     "metadata": {},
     "output_type": "execute_result"
    }
   ],
   "source": [
    "rfc_roc_under_auc"
   ]
  },
  {
   "cell_type": "code",
   "execution_count": 54,
   "id": "a24ad38d",
   "metadata": {},
   "outputs": [
    {
     "data": {
      "text/plain": [
       "array([0.        , 0.24791232, 1.        ])"
      ]
     },
     "metadata": {},
     "output_type": "display_data"
    },
    {
     "data": {
      "text/plain": [
       "array([0.        , 0.88791774, 1.        ])"
      ]
     },
     "metadata": {},
     "output_type": "display_data"
    },
    {
     "data": {
      "text/plain": [
       "array([inf,  1.,  0.])"
      ]
     },
     "metadata": {},
     "output_type": "display_data"
    }
   ],
   "source": [
    "fpr, tpr, thres = roc_curve(y_test, pred_test_rfc)\n",
    "display(fpr[:10])\n",
    "display(tpr[:10])\n",
    "display(thres[:10])"
   ]
  },
  {
   "cell_type": "code",
   "execution_count": 55,
   "id": "7711206c",
   "metadata": {},
   "outputs": [
    {
     "data": {
      "image/png": "[encoded data removed]",
      "text/plain": [
       "<Figure size 1200x800 with 1 Axes>"
      ]
     },
     "metadata": {},
     "output_type": "display_data"
    }
   ],
   "source": [
    "plt.figure(figsize=(12,8))\n",
    "plt.plot(fpr, tpr, label = 'ROC and AUC Curve (area = %0.2f)' % rfc_roc_under_auc)\n",
    "plt.plot([0,1],[0,1], 'k--')\n",
    "plt.xlabel('FPR')\n",
    "plt.ylabel('TPR')\n",
    "plt.xlim([0.0,1.0])\n",
    "plt.ylim([0.0,1.0])\n",
    "plt.legend(loc='lower right')\n",
    "plt.show()"
   ]
  },
  {
   "cell_type": "markdown",
   "id": "402bb267",
   "metadata": {},
   "source": [
    "## Concluding: Since the model is showing great performance in the ROC-AUC Curve, the model using Random Forest with Train accuracy of 83% and Test accuracy of 82% and 10 Fold Cross Validation mean Accuracy scores for training and test data is 82% and 81% respectively, Hence the model can be said to be performing very well and can be used for deployment in production."
   ]
  },
  {
   "cell_type": "markdown",
   "id": "732cb99d",
   "metadata": {},
   "source": [
    "## Note: In this dataset, the False Negative value should be as low as possible as we would not want to classify a person as non delinquent if they are actually delinquent."
   ]
  },
  {
   "cell_type": "code",
   "execution_count": 56,
   "id": "0010a055",
   "metadata": {},
   "outputs": [
    {
     "data": {
      "text/html": [
       "<div>\n",
       "<style scoped>\n",
       "    .dataframe tbody tr th:only-of-type {\n",
       "        vertical-align: middle;\n",
       "    }\n",
       "\n",
       "    .dataframe tbody tr th {\n",
       "        vertical-align: top;\n",
       "    }\n",
       "\n",
       "    .dataframe thead th {\n",
       "        text-align: right;\n",
       "    }\n",
       "</style>\n",
       "<table border=\"1\" class=\"dataframe\">\n",
       "  <thead>\n",
       "    <tr style=\"text-align: right;\">\n",
       "      <th></th>\n",
       "      <th>Loan_term</th>\n",
       "      <th>Gender</th>\n",
       "      <th>Age</th>\n",
       "      <th>Fico_score</th>\n",
       "      <th>Loan_purpose_House</th>\n",
       "      <th>Loan_purpose_Medical</th>\n",
       "      <th>Loan_purpose_Other</th>\n",
       "      <th>Loan_purpose_Personal</th>\n",
       "      <th>Loan_purpose_Wedding</th>\n",
       "      <th>Home_ownership_Own</th>\n",
       "      <th>Home_ownership_Rent</th>\n",
       "    </tr>\n",
       "  </thead>\n",
       "  <tbody>\n",
       "    <tr>\n",
       "      <th>9647</th>\n",
       "      <td>0</td>\n",
       "      <td>0</td>\n",
       "      <td>1</td>\n",
       "      <td>1</td>\n",
       "      <td>1</td>\n",
       "      <td>0</td>\n",
       "      <td>0</td>\n",
       "      <td>0</td>\n",
       "      <td>0</td>\n",
       "      <td>0</td>\n",
       "      <td>1</td>\n",
       "    </tr>\n",
       "    <tr>\n",
       "      <th>14355</th>\n",
       "      <td>0</td>\n",
       "      <td>0</td>\n",
       "      <td>0</td>\n",
       "      <td>1</td>\n",
       "      <td>0</td>\n",
       "      <td>0</td>\n",
       "      <td>1</td>\n",
       "      <td>0</td>\n",
       "      <td>0</td>\n",
       "      <td>0</td>\n",
       "      <td>0</td>\n",
       "    </tr>\n",
       "    <tr>\n",
       "      <th>819</th>\n",
       "      <td>0</td>\n",
       "      <td>1</td>\n",
       "      <td>1</td>\n",
       "      <td>1</td>\n",
       "      <td>0</td>\n",
       "      <td>1</td>\n",
       "      <td>0</td>\n",
       "      <td>0</td>\n",
       "      <td>0</td>\n",
       "      <td>0</td>\n",
       "      <td>1</td>\n",
       "    </tr>\n",
       "    <tr>\n",
       "      <th>14558</th>\n",
       "      <td>0</td>\n",
       "      <td>0</td>\n",
       "      <td>1</td>\n",
       "      <td>1</td>\n",
       "      <td>0</td>\n",
       "      <td>0</td>\n",
       "      <td>0</td>\n",
       "      <td>1</td>\n",
       "      <td>0</td>\n",
       "      <td>0</td>\n",
       "      <td>0</td>\n",
       "    </tr>\n",
       "    <tr>\n",
       "      <th>13802</th>\n",
       "      <td>0</td>\n",
       "      <td>0</td>\n",
       "      <td>0</td>\n",
       "      <td>1</td>\n",
       "      <td>1</td>\n",
       "      <td>0</td>\n",
       "      <td>0</td>\n",
       "      <td>0</td>\n",
       "      <td>0</td>\n",
       "      <td>0</td>\n",
       "      <td>0</td>\n",
       "    </tr>\n",
       "  </tbody>\n",
       "</table>\n",
       "</div>"
      ],
      "text/plain": [
       "       Loan_term  Gender  Age  Fico_score  Loan_purpose_House  \\\n",
       "9647           0       0    1           1                   1   \n",
       "14355          0       0    0           1                   0   \n",
       "819            0       1    1           1                   0   \n",
       "14558          0       0    1           1                   0   \n",
       "13802          0       0    0           1                   1   \n",
       "\n",
       "       Loan_purpose_Medical  Loan_purpose_Other  Loan_purpose_Personal  \\\n",
       "9647                      0                   0                      0   \n",
       "14355                     0                   1                      0   \n",
       "819                       1                   0                      0   \n",
       "14558                     0                   0                      1   \n",
       "13802                     0                   0                      0   \n",
       "\n",
       "       Loan_purpose_Wedding  Home_ownership_Own  Home_ownership_Rent  \n",
       "9647                      0                   0                    1  \n",
       "14355                     0                   0                    0  \n",
       "819                       0                   0                    1  \n",
       "14558                     0                   0                    0  \n",
       "13802                     0                   0                    0  "
      ]
     },
     "execution_count": 56,
     "metadata": {},
     "output_type": "execute_result"
    }
   ],
   "source": [
    "x_train.head()"
   ]
  },
  {
   "cell_type": "code",
   "execution_count": 57,
   "id": "38a06014",
   "metadata": {},
   "outputs": [],
   "source": [
    "# Model Predictions using random feature values:\n",
    "\n",
    "def pred_delinquent(Loan_term, Gender, Age, Fico_score, Loan_purpose_House, Loan_purpose_Medical, Loan_purpose_Other, \n",
    "                    Loan_purpose_Personal, Loan_purpose_Wedding, Home_ownership_Own, Home_ownership_Rent):\n",
    "    prediction = rfc.predict([[Loan_term, Gender, Age, Fico_score, Loan_purpose_House, Loan_purpose_Medical, Loan_purpose_Other, \n",
    "                    Loan_purpose_Personal, Loan_purpose_Wedding, Home_ownership_Own, Home_ownership_Rent]])\n",
    "    if prediction == [1]:\n",
    "        print('\\n')\n",
    "        return 'Caution!!! The likelihood of the borrower being delinquent is very high.'\n",
    "    else:\n",
    "        print('\\n')\n",
    "        return 'The likelihood of the borrower being delinquent is negligibly low.'"
   ]
  },
  {
   "cell_type": "markdown",
   "id": "a854be6e",
   "metadata": {},
   "source": [
    "0 0 1 0 1 0 0 0 0 0 1"
   ]
  },
  {
   "cell_type": "code",
   "execution_count": 58,
   "id": "068c1d03",
   "metadata": {},
   "outputs": [
    {
     "name": "stdout",
     "output_type": "stream",
     "text": [
      "Enter the Loan term 1 if 60 months and 0 if 36 months: 0\n",
      "Enter the gender of the borrower 1 if male and 0 if female: 0\n",
      "Enter the age of the borrower 1 if > 25 years of age and 0 if age ranges from 20-25: 1\n",
      "Enter the Fico score of the borrower 1 if > 500 0 if between 300-500: 0\n",
      "Enter 1 if the purpose of loan is for house: 1\n",
      "Enter 1 if the purpose of loan is for medical: 0\n",
      "Enter 1 if the purpose of loan is for other: 0\n",
      "Enter 1 if the purpose of loan is for Personal: 0\n",
      "Enter 1 if the purpose of loan is for Wedding: 0\n",
      "Enter 1 if the borrower owns his current residence: 0\n",
      "Enter 1 if the borrower rents his current residence: 1\n",
      "\n",
      "\n",
      "Caution!!! The likelihood of the borrower being delinquent is very high.\n"
     ]
    }
   ],
   "source": [
    "# Model taking input from user:\n",
    "\n",
    "Loan_term = int(input(\"Enter the Loan term 1 if 60 months and 0 if 36 months: \"))\n",
    "Gender = int(input(\"Enter the gender of the borrower 1 if male and 0 if female: \"))\n",
    "Age = int(input(\"Enter the age of the borrower 1 if > 25 years of age and 0 if age ranges from 20-25: \"))\n",
    "Fico_score = int(input(\"Enter the Fico score of the borrower 1 if > 500 0 if between 300-500: \"))\n",
    "Loan_purpose_House = int(input(\"Enter 1 if the purpose of loan is for house: \"))\n",
    "Loan_purpose_Medical = int(input(\"Enter 1 if the purpose of loan is for medical: \"))\n",
    "Loan_purpose_Other = int(input(\"Enter 1 if the purpose of loan is for other: \"))\n",
    "Loan_purpose_Personal = int(input(\"Enter 1 if the purpose of loan is for Personal: \"))\n",
    "Loan_purpose_Wedding = int(input(\"Enter 1 if the purpose of loan is for Wedding: \"))\n",
    "Home_ownership_Own = int(input(\"Enter 1 if the borrower owns his current residence: \"))\n",
    "Home_ownership_Rent = int(input(\"Enter 1 if the borrower rents his current residence: \"))\n",
    "\n",
    "\n",
    "print(pred_delinquent(Loan_term, Gender, Age, Fico_score, Loan_purpose_House, Loan_purpose_Medical, Loan_purpose_Other, \n",
    "                    Loan_purpose_Personal, Loan_purpose_Wedding, Home_ownership_Own, Home_ownership_Rent))"
   ]
  },
  {
   "cell_type": "markdown",
   "id": "ebec7ef7",
   "metadata": {},
   "source": [
    "0 0 0 1 0 0 0 1 0 0 0 "
   ]
  },
  {
   "cell_type": "code",
   "execution_count": 59,
   "id": "3fc45c9b",
   "metadata": {},
   "outputs": [
    {
     "name": "stdout",
     "output_type": "stream",
     "text": [
      "Enter the Loan term 1 if 60 months and 0 if 36 months: 0\n",
      "Enter the gender of the borrower 1 if male and 0 if female: 0\n",
      "Enter the age of the borrower 1 if > 25 years of age and 0 if age ranges from 20-25: 0\n",
      "Enter the Fico score of the borrower 1 if > 500 0 if between 300-500: 1\n",
      "Enter 1 if the purpose of loan is for house: 0\n",
      "Enter 1 if the purpose of loan is for medical: 0\n",
      "Enter 1 if the purpose of loan is for other: 0\n",
      "Enter 1 if the purpose of loan is for Personal: 1\n",
      "Enter 1 if the purpose of loan is for Wedding: 0\n",
      "Enter 1 if the borrower owns his current residence: 0\n",
      "Enter 1 if the borrower rents his current residence: 0\n",
      "\n",
      "\n",
      "The likelihood of the borrower being delinquent is negligibly low.\n"
     ]
    }
   ],
   "source": [
    "# Model taking input from user:\n",
    "\n",
    "Loan_term = int(input(\"Enter the Loan term 1 if 60 months and 0 if 36 months: \"))\n",
    "Gender = int(input(\"Enter the gender of the borrower 1 if male and 0 if female: \"))\n",
    "Age = int(input(\"Enter the age of the borrower 1 if > 25 years of age and 0 if age ranges from 20-25: \"))\n",
    "Fico_score = int(input(\"Enter the Fico score of the borrower 1 if > 500 0 if between 300-500: \"))\n",
    "Loan_purpose_House = int(input(\"Enter 1 if the purpose of loan is for house: \"))\n",
    "Loan_purpose_Medical = int(input(\"Enter 1 if the purpose of loan is for medical: \"))\n",
    "Loan_purpose_Other = int(input(\"Enter 1 if the purpose of loan is for other: \"))\n",
    "Loan_purpose_Personal = int(input(\"Enter 1 if the purpose of loan is for Personal: \"))\n",
    "Loan_purpose_Wedding = int(input(\"Enter 1 if the purpose of loan is for Wedding: \"))\n",
    "Home_ownership_Own = int(input(\"Enter 1 if the borrower owns his current residence: \"))\n",
    "Home_ownership_Rent = int(input(\"Enter 1 if the borrower rents his current residence: \"))\n",
    "\n",
    "\n",
    "print(pred_delinquent(Loan_term, Gender, Age, Fico_score, Loan_purpose_House, Loan_purpose_Medical, Loan_purpose_Other, \n",
    "                    Loan_purpose_Personal, Loan_purpose_Wedding, Home_ownership_Own, Home_ownership_Rent))"
   ]
  }
 ],
 "metadata": {
  "kernelspec": {
   "display_name": "Python 3 (ipykernel)",
   "language": "python",
   "name": "python3"
  },
  "language_info": {
   "codemirror_mode": {
    "name": "ipython",
    "version": 3
   },
   "file_extension": ".py",
   "mimetype": "text/x-python",
   "name": "python",
   "nbconvert_exporter": "python",
   "pygments_lexer": "ipython3",
   "version": "3.11.5"
  }
 },
 "nbformat": 4,
 "nbformat_minor": 5
}
